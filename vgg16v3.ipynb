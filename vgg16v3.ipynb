{
  "nbformat": 4,
  "nbformat_minor": 0,
  "metadata": {
    "colab": {
      "provenance": [],
      "gpuType": "T4",
      "authorship_tag": "ABX9TyOh8d5j/crnuDdUJ45+ujeZ",
      "include_colab_link": true
    },
    "kernelspec": {
      "name": "python3",
      "display_name": "Python 3"
    },
    "language_info": {
      "name": "python"
    },
    "accelerator": "GPU"
  },
  "cells": [
    {
      "cell_type": "markdown",
      "metadata": {
        "id": "view-in-github",
        "colab_type": "text"
      },
      "source": [
        "<a href=\"https://colab.research.google.com/github/yassine-grati/rememberme/blob/main/vgg16v3.ipynb\" target=\"_parent\"><img src=\"https://colab.research.google.com/assets/colab-badge.svg\" alt=\"Open In Colab\"/></a>"
      ]
    },
    {
      "cell_type": "code",
      "execution_count": null,
      "metadata": {
        "colab": {
          "base_uri": "https://localhost:8080/"
        },
        "id": "zc20EB_9oTWf",
        "outputId": "7701b109-dea4-47e6-98b9-a948d3cc55cd"
      },
      "outputs": [
        {
          "output_type": "stream",
          "name": "stdout",
          "text": [
            "Requirement already satisfied: tensorflow in /usr/local/lib/python3.11/dist-packages (2.18.0)\n",
            "Requirement already satisfied: absl-py>=1.0.0 in /usr/local/lib/python3.11/dist-packages (from tensorflow) (1.4.0)\n",
            "Requirement already satisfied: astunparse>=1.6.0 in /usr/local/lib/python3.11/dist-packages (from tensorflow) (1.6.3)\n",
            "Requirement already satisfied: flatbuffers>=24.3.25 in /usr/local/lib/python3.11/dist-packages (from tensorflow) (25.2.10)\n",
            "Requirement already satisfied: gast!=0.5.0,!=0.5.1,!=0.5.2,>=0.2.1 in /usr/local/lib/python3.11/dist-packages (from tensorflow) (0.6.0)\n",
            "Requirement already satisfied: google-pasta>=0.1.1 in /usr/local/lib/python3.11/dist-packages (from tensorflow) (0.2.0)\n",
            "Requirement already satisfied: libclang>=13.0.0 in /usr/local/lib/python3.11/dist-packages (from tensorflow) (18.1.1)\n",
            "Requirement already satisfied: opt-einsum>=2.3.2 in /usr/local/lib/python3.11/dist-packages (from tensorflow) (3.4.0)\n",
            "Requirement already satisfied: packaging in /usr/local/lib/python3.11/dist-packages (from tensorflow) (24.2)\n",
            "Requirement already satisfied: protobuf!=4.21.0,!=4.21.1,!=4.21.2,!=4.21.3,!=4.21.4,!=4.21.5,<6.0.0dev,>=3.20.3 in /usr/local/lib/python3.11/dist-packages (from tensorflow) (5.29.4)\n",
            "Requirement already satisfied: requests<3,>=2.21.0 in /usr/local/lib/python3.11/dist-packages (from tensorflow) (2.32.3)\n",
            "Requirement already satisfied: setuptools in /usr/local/lib/python3.11/dist-packages (from tensorflow) (75.2.0)\n",
            "Requirement already satisfied: six>=1.12.0 in /usr/local/lib/python3.11/dist-packages (from tensorflow) (1.17.0)\n",
            "Requirement already satisfied: termcolor>=1.1.0 in /usr/local/lib/python3.11/dist-packages (from tensorflow) (3.1.0)\n",
            "Requirement already satisfied: typing-extensions>=3.6.6 in /usr/local/lib/python3.11/dist-packages (from tensorflow) (4.13.2)\n",
            "Requirement already satisfied: wrapt>=1.11.0 in /usr/local/lib/python3.11/dist-packages (from tensorflow) (1.17.2)\n",
            "Requirement already satisfied: grpcio<2.0,>=1.24.3 in /usr/local/lib/python3.11/dist-packages (from tensorflow) (1.71.0)\n",
            "Requirement already satisfied: tensorboard<2.19,>=2.18 in /usr/local/lib/python3.11/dist-packages (from tensorflow) (2.18.0)\n",
            "Requirement already satisfied: keras>=3.5.0 in /usr/local/lib/python3.11/dist-packages (from tensorflow) (3.8.0)\n",
            "Requirement already satisfied: numpy<2.1.0,>=1.26.0 in /usr/local/lib/python3.11/dist-packages (from tensorflow) (2.0.2)\n",
            "Requirement already satisfied: h5py>=3.11.0 in /usr/local/lib/python3.11/dist-packages (from tensorflow) (3.13.0)\n",
            "Requirement already satisfied: ml-dtypes<0.5.0,>=0.4.0 in /usr/local/lib/python3.11/dist-packages (from tensorflow) (0.4.1)\n",
            "Requirement already satisfied: tensorflow-io-gcs-filesystem>=0.23.1 in /usr/local/lib/python3.11/dist-packages (from tensorflow) (0.37.1)\n",
            "Requirement already satisfied: wheel<1.0,>=0.23.0 in /usr/local/lib/python3.11/dist-packages (from astunparse>=1.6.0->tensorflow) (0.45.1)\n",
            "Requirement already satisfied: rich in /usr/local/lib/python3.11/dist-packages (from keras>=3.5.0->tensorflow) (13.9.4)\n",
            "Requirement already satisfied: namex in /usr/local/lib/python3.11/dist-packages (from keras>=3.5.0->tensorflow) (0.0.9)\n",
            "Requirement already satisfied: optree in /usr/local/lib/python3.11/dist-packages (from keras>=3.5.0->tensorflow) (0.15.0)\n",
            "Requirement already satisfied: charset-normalizer<4,>=2 in /usr/local/lib/python3.11/dist-packages (from requests<3,>=2.21.0->tensorflow) (3.4.1)\n",
            "Requirement already satisfied: idna<4,>=2.5 in /usr/local/lib/python3.11/dist-packages (from requests<3,>=2.21.0->tensorflow) (3.10)\n",
            "Requirement already satisfied: urllib3<3,>=1.21.1 in /usr/local/lib/python3.11/dist-packages (from requests<3,>=2.21.0->tensorflow) (2.4.0)\n",
            "Requirement already satisfied: certifi>=2017.4.17 in /usr/local/lib/python3.11/dist-packages (from requests<3,>=2.21.0->tensorflow) (2025.4.26)\n",
            "Requirement already satisfied: markdown>=2.6.8 in /usr/local/lib/python3.11/dist-packages (from tensorboard<2.19,>=2.18->tensorflow) (3.8)\n",
            "Requirement already satisfied: tensorboard-data-server<0.8.0,>=0.7.0 in /usr/local/lib/python3.11/dist-packages (from tensorboard<2.19,>=2.18->tensorflow) (0.7.2)\n",
            "Requirement already satisfied: werkzeug>=1.0.1 in /usr/local/lib/python3.11/dist-packages (from tensorboard<2.19,>=2.18->tensorflow) (3.1.3)\n",
            "Requirement already satisfied: MarkupSafe>=2.1.1 in /usr/local/lib/python3.11/dist-packages (from werkzeug>=1.0.1->tensorboard<2.19,>=2.18->tensorflow) (3.0.2)\n",
            "Requirement already satisfied: markdown-it-py>=2.2.0 in /usr/local/lib/python3.11/dist-packages (from rich->keras>=3.5.0->tensorflow) (3.0.0)\n",
            "Requirement already satisfied: pygments<3.0.0,>=2.13.0 in /usr/local/lib/python3.11/dist-packages (from rich->keras>=3.5.0->tensorflow) (2.19.1)\n",
            "Requirement already satisfied: mdurl~=0.1 in /usr/local/lib/python3.11/dist-packages (from markdown-it-py>=2.2.0->rich->keras>=3.5.0->tensorflow) (0.1.2)\n"
          ]
        }
      ],
      "source": [
        "pip install tensorflow"
      ]
    },
    {
      "cell_type": "code",
      "source": [],
      "metadata": {
        "id": "TZxIcYBbpaT0"
      },
      "execution_count": null,
      "outputs": []
    },
    {
      "cell_type": "code",
      "source": [
        "import tensorflow as tf\n",
        "from tensorflow.keras.layers import Input, Lambda, Dense, Flatten\n",
        "from tensorflow.keras.models import Model\n",
        "from tensorflow.keras.applications.vgg16 import VGG16\n",
        "from tensorflow.keras.applications.vgg19 import VGG19\n",
        "from tensorflow.keras.preprocessing import image\n",
        "from tensorflow.keras.preprocessing.image import ImageDataGenerator,load_img\n",
        "from tensorflow.keras.models import Sequential\n",
        "import numpy as np\n",
        "from glob import glob\n",
        "from keras.layers import Dense, Dropout, Activation, Flatten, GlobalAveragePooling2D\n",
        "from keras.layers import Conv2D, MaxPooling2D, ZeroPadding2D, BatchNormalization\n",
        "from tensorflow.keras.optimizers import Adam\n",
        "import pandas as pd\n",
        "from tensorflow.keras.callbacks import EarlyStopping, ReduceLROnPlateau\n",
        "from sklearn.model_selection import StratifiedKFold\n",
        "from sklearn.utils import class_weight\n",
        "import zipfile\n",
        "import os\n",
        "from google.colab import drive"
      ],
      "metadata": {
        "id": "gdWGdJz0ouTU"
      },
      "execution_count": null,
      "outputs": []
    },
    {
      "cell_type": "code",
      "source": [
        "drive.mount('/content/drive')\n",
        "zip_train = zipfile.ZipFile('/content/drive/MyDrive/archive (2).zip', 'r') #Opens the zip file in read mode\n",
        "zip_train.extractall('/tmp') #Extracts the files into the /tmp folder\n",
        "zip_train.close()"
      ],
      "metadata": {
        "id": "Cva6AtlkpGNW",
        "colab": {
          "base_uri": "https://localhost:8080/"
        },
        "outputId": "d128fd1c-8bee-47f9-e5f9-81dea9165e80"
      },
      "execution_count": null,
      "outputs": [
        {
          "output_type": "stream",
          "name": "stdout",
          "text": [
            "Mounted at /content/drive\n"
          ]
        }
      ]
    },
    {
      "cell_type": "code",
      "source": [
        "# re-size all the images to this\n",
        "IMAGE_SIZE = [224, 224]\n",
        "\n",
        "train_path = '/tmp/train'\n",
        "valid_path = '/tmp/test'\n",
        "def count_images_per_class(folder_path):\n",
        "    class_counts = {}\n",
        "    for class_name in os.listdir(folder_path):\n",
        "        class_dir = os.path.join(folder_path, class_name)\n",
        "        if os.path.isdir(class_dir):\n",
        "            num_images = len([f for f in os.listdir(class_dir) if f.endswith(('.jpg', '.png', '.jpeg'))])\n",
        "            class_counts[class_name] = num_images\n",
        "    return class_counts\n",
        "\n",
        "# Example usage:\n",
        "\n",
        "train_counts = count_images_per_class(train_path)\n",
        "test_counts = count_images_per_class(valid_path)\n",
        "\n",
        "print(\"Training set counts:\", train_counts)\n",
        "print(\"Test set counts:\", test_counts)"
      ],
      "metadata": {
        "id": "iU51nT7-pHTw",
        "colab": {
          "base_uri": "https://localhost:8080/"
        },
        "outputId": "b6fe3850-dde3-4be2-983a-336c7ea6e283"
      },
      "execution_count": null,
      "outputs": [
        {
          "output_type": "stream",
          "name": "stdout",
          "text": [
            "Training set counts: {'Very mild Dementia': 10980, 'Moderate Dementia': 390, 'Non Demented': 53777, 'Mild Dementia': 4001}\n",
            "Test set counts: {'Very mild Dementia': 2745, 'Moderate Dementia': 98, 'Non Demented': 13445, 'Mild Dementia': 1001}\n"
          ]
        }
      ]
    },
    {
      "cell_type": "code",
      "source": [
        "import random\n",
        "import shutil\n",
        "\n",
        "def create_subset(original_dir, target_dir, subset_ratio=0.2):\n",
        "    os.makedirs(target_dir, exist_ok=True)\n",
        "    for class_name in os.listdir(original_dir):\n",
        "        class_path = os.path.join(original_dir, class_name)\n",
        "        if os.path.isdir(class_path):\n",
        "            files = [f for f in os.listdir(class_path) if f.endswith(('.jpg', '.png'))]\n",
        "            subset_files = random.sample(files, int(len(files) * subset_ratio))\n",
        "\n",
        "            # Create target class directory\n",
        "            target_class_path = os.path.join(target_dir, class_name)\n",
        "            os.makedirs(target_class_path, exist_ok=True)\n",
        "\n",
        "            # Copy selected files\n",
        "            for file in subset_files:\n",
        "                shutil.copy2(\n",
        "                    os.path.join(class_path, file),\n",
        "                    os.path.join(target_class_path, file)\n",
        "                )\n",
        "\n",
        "# Example: Create 20% subsets of original train/test\n",
        "create_subset('/tmp/train', '/tmp/subset_dataset/train', subset_ratio=0.2)\n",
        "create_subset('/tmp/test', '/tmp/subset_dataset/test', subset_ratio=0.2)\n",
        "\n",
        "train_path='/tmp/subset_dataset/train'\n",
        "valid_path='/tmp/subset_dataset/test'\n",
        "\n",
        "train_counts = count_images_per_class(train_path)\n",
        "test_counts = count_images_per_class(valid_path)\n",
        "\n",
        "print(\"Training set counts:\", train_counts)\n",
        "print(\"Test set counts:\", test_counts)"
      ],
      "metadata": {
        "id": "vX9PfCJ0pbWh",
        "colab": {
          "base_uri": "https://localhost:8080/"
        },
        "outputId": "6b928a04-37ae-4c47-9017-6ee93b489761"
      },
      "execution_count": null,
      "outputs": [
        {
          "output_type": "stream",
          "name": "stdout",
          "text": [
            "Training set counts: {'Very mild Dementia': 2196, 'Moderate Dementia': 78, 'Non Demented': 10755, 'Mild Dementia': 800}\n",
            "Test set counts: {'Very mild Dementia': 549, 'Moderate Dementia': 19, 'Non Demented': 2689, 'Mild Dementia': 200}\n"
          ]
        }
      ]
    },
    {
      "cell_type": "code",
      "source": [
        "#cross validation\n",
        "def create_image_dataframe(directory):\n",
        "    data = []\n",
        "    for class_name in os.listdir(directory):\n",
        "        class_path = os.path.join(directory, class_name)\n",
        "        if os.path.isdir(class_path):\n",
        "            for img in os.listdir(class_path):\n",
        "                if img.endswith(('.jpg', '.png')):\n",
        "                    data.append({\n",
        "                        'filename': os.path.join(class_path, img),\n",
        "                        'label': class_name\n",
        "                    })\n",
        "    return pd.DataFrame(data)\n"
      ],
      "metadata": {
        "id": "5qtEtsMwpgrL"
      },
      "execution_count": null,
      "outputs": []
    },
    {
      "cell_type": "code",
      "source": [
        "vgg16 = VGG16(  input_shape=IMAGE_SIZE + [3],\n",
        "                weights='imagenet',\n",
        "                include_top=False)"
      ],
      "metadata": {
        "id": "k3HBZ0IUqfQn"
      },
      "execution_count": null,
      "outputs": []
    },
    {
      "cell_type": "code",
      "source": [
        "for layer in vgg16.layers:\n",
        "    layer.trainable = False"
      ],
      "metadata": {
        "id": "_7orCIEjqgKS"
      },
      "execution_count": null,
      "outputs": []
    },
    {
      "cell_type": "code",
      "source": [
        "folders = glob('/tmp/train/*')"
      ],
      "metadata": {
        "id": "hhTp5h7Xqk4i"
      },
      "execution_count": null,
      "outputs": []
    },
    {
      "cell_type": "code",
      "source": [
        "for (i,layer) in enumerate(vgg16.layers):\n",
        "    print(str(i) + \" \"+ layer.__class__.__name__, layer.trainable)"
      ],
      "metadata": {
        "id": "0wTz-krJqp2A",
        "colab": {
          "base_uri": "https://localhost:8080/"
        },
        "outputId": "e67936a1-20fe-4a8a-8503-c13a00ce0433"
      },
      "execution_count": null,
      "outputs": [
        {
          "output_type": "stream",
          "name": "stdout",
          "text": [
            "0 InputLayer False\n",
            "1 Conv2D False\n",
            "2 Conv2D False\n",
            "3 MaxPooling2D False\n",
            "4 Conv2D False\n",
            "5 Conv2D False\n",
            "6 MaxPooling2D False\n",
            "7 Conv2D False\n",
            "8 Conv2D False\n",
            "9 Conv2D False\n",
            "10 MaxPooling2D False\n",
            "11 Conv2D False\n",
            "12 Conv2D False\n",
            "13 Conv2D False\n",
            "14 MaxPooling2D False\n",
            "15 Conv2D False\n",
            "16 Conv2D False\n",
            "17 Conv2D False\n",
            "18 MaxPooling2D False\n"
          ]
        }
      ]
    },
    {
      "cell_type": "code",
      "source": [
        "# Function to build model head\n",
        "def lw(bottom_model, num_classes):\n",
        "    top_model = bottom_model.output\n",
        "    top_model = GlobalAveragePooling2D()(top_model)\n",
        "    top_model = Dense(256, activation='relu')(top_model)\n",
        "    top_model = BatchNormalization()(top_model)\n",
        "    top_model = Dropout(0.5)(top_model)\n",
        "    top_model = Dense(128, activation='relu')(top_model)\n",
        "    top_model = BatchNormalization()(top_model)\n",
        "    top_model = Dropout(0.5)(top_model)\n",
        "    top_model = Dense(num_classes, activation='softmax')(top_model)\n",
        "    return top_model"
      ],
      "metadata": {
        "id": "dVqTb1e0qw-3"
      },
      "execution_count": null,
      "outputs": []
    },
    {
      "cell_type": "code",
      "source": [
        "num_classes = 4\n",
        "FC_Head = lw(vgg16, num_classes)\n",
        "model = Model(inputs=vgg16.input, outputs=FC_Head)\n",
        "print(model.summary())"
      ],
      "metadata": {
        "id": "sL9lD3IEq0LW",
        "colab": {
          "base_uri": "https://localhost:8080/",
          "height": 1000
        },
        "outputId": "ce786f1f-d9ce-4c63-e840-3e943141c3f8"
      },
      "execution_count": null,
      "outputs": [
        {
          "output_type": "display_data",
          "data": {
            "text/plain": [
              "\u001b[1mModel: \"functional_1\"\u001b[0m\n"
            ],
            "text/html": [
              "<pre style=\"white-space:pre;overflow-x:auto;line-height:normal;font-family:Menlo,'DejaVu Sans Mono',consolas,'Courier New',monospace\"><span style=\"font-weight: bold\">Model: \"functional_1\"</span>\n",
              "</pre>\n"
            ]
          },
          "metadata": {}
        },
        {
          "output_type": "display_data",
          "data": {
            "text/plain": [
              "┏━━━━━━━━━━━━━━━━━━━━━━━━━━━━━━━━━┳━━━━━━━━━━━━━━━━━━━━━━━━┳━━━━━━━━━━━━━━━┓\n",
              "┃\u001b[1m \u001b[0m\u001b[1mLayer (type)                   \u001b[0m\u001b[1m \u001b[0m┃\u001b[1m \u001b[0m\u001b[1mOutput Shape          \u001b[0m\u001b[1m \u001b[0m┃\u001b[1m \u001b[0m\u001b[1m      Param #\u001b[0m\u001b[1m \u001b[0m┃\n",
              "┡━━━━━━━━━━━━━━━━━━━━━━━━━━━━━━━━━╇━━━━━━━━━━━━━━━━━━━━━━━━╇━━━━━━━━━━━━━━━┩\n",
              "│ input_layer_1 (\u001b[38;5;33mInputLayer\u001b[0m)      │ (\u001b[38;5;45mNone\u001b[0m, \u001b[38;5;34m224\u001b[0m, \u001b[38;5;34m224\u001b[0m, \u001b[38;5;34m3\u001b[0m)    │             \u001b[38;5;34m0\u001b[0m │\n",
              "├─────────────────────────────────┼────────────────────────┼───────────────┤\n",
              "│ block1_conv1 (\u001b[38;5;33mConv2D\u001b[0m)           │ (\u001b[38;5;45mNone\u001b[0m, \u001b[38;5;34m224\u001b[0m, \u001b[38;5;34m224\u001b[0m, \u001b[38;5;34m64\u001b[0m)   │         \u001b[38;5;34m1,792\u001b[0m │\n",
              "├─────────────────────────────────┼────────────────────────┼───────────────┤\n",
              "│ block1_conv2 (\u001b[38;5;33mConv2D\u001b[0m)           │ (\u001b[38;5;45mNone\u001b[0m, \u001b[38;5;34m224\u001b[0m, \u001b[38;5;34m224\u001b[0m, \u001b[38;5;34m64\u001b[0m)   │        \u001b[38;5;34m36,928\u001b[0m │\n",
              "├─────────────────────────────────┼────────────────────────┼───────────────┤\n",
              "│ block1_pool (\u001b[38;5;33mMaxPooling2D\u001b[0m)      │ (\u001b[38;5;45mNone\u001b[0m, \u001b[38;5;34m112\u001b[0m, \u001b[38;5;34m112\u001b[0m, \u001b[38;5;34m64\u001b[0m)   │             \u001b[38;5;34m0\u001b[0m │\n",
              "├─────────────────────────────────┼────────────────────────┼───────────────┤\n",
              "│ block2_conv1 (\u001b[38;5;33mConv2D\u001b[0m)           │ (\u001b[38;5;45mNone\u001b[0m, \u001b[38;5;34m112\u001b[0m, \u001b[38;5;34m112\u001b[0m, \u001b[38;5;34m128\u001b[0m)  │        \u001b[38;5;34m73,856\u001b[0m │\n",
              "├─────────────────────────────────┼────────────────────────┼───────────────┤\n",
              "│ block2_conv2 (\u001b[38;5;33mConv2D\u001b[0m)           │ (\u001b[38;5;45mNone\u001b[0m, \u001b[38;5;34m112\u001b[0m, \u001b[38;5;34m112\u001b[0m, \u001b[38;5;34m128\u001b[0m)  │       \u001b[38;5;34m147,584\u001b[0m │\n",
              "├─────────────────────────────────┼────────────────────────┼───────────────┤\n",
              "│ block2_pool (\u001b[38;5;33mMaxPooling2D\u001b[0m)      │ (\u001b[38;5;45mNone\u001b[0m, \u001b[38;5;34m56\u001b[0m, \u001b[38;5;34m56\u001b[0m, \u001b[38;5;34m128\u001b[0m)    │             \u001b[38;5;34m0\u001b[0m │\n",
              "├─────────────────────────────────┼────────────────────────┼───────────────┤\n",
              "│ block3_conv1 (\u001b[38;5;33mConv2D\u001b[0m)           │ (\u001b[38;5;45mNone\u001b[0m, \u001b[38;5;34m56\u001b[0m, \u001b[38;5;34m56\u001b[0m, \u001b[38;5;34m256\u001b[0m)    │       \u001b[38;5;34m295,168\u001b[0m │\n",
              "├─────────────────────────────────┼────────────────────────┼───────────────┤\n",
              "│ block3_conv2 (\u001b[38;5;33mConv2D\u001b[0m)           │ (\u001b[38;5;45mNone\u001b[0m, \u001b[38;5;34m56\u001b[0m, \u001b[38;5;34m56\u001b[0m, \u001b[38;5;34m256\u001b[0m)    │       \u001b[38;5;34m590,080\u001b[0m │\n",
              "├─────────────────────────────────┼────────────────────────┼───────────────┤\n",
              "│ block3_conv3 (\u001b[38;5;33mConv2D\u001b[0m)           │ (\u001b[38;5;45mNone\u001b[0m, \u001b[38;5;34m56\u001b[0m, \u001b[38;5;34m56\u001b[0m, \u001b[38;5;34m256\u001b[0m)    │       \u001b[38;5;34m590,080\u001b[0m │\n",
              "├─────────────────────────────────┼────────────────────────┼───────────────┤\n",
              "│ block3_pool (\u001b[38;5;33mMaxPooling2D\u001b[0m)      │ (\u001b[38;5;45mNone\u001b[0m, \u001b[38;5;34m28\u001b[0m, \u001b[38;5;34m28\u001b[0m, \u001b[38;5;34m256\u001b[0m)    │             \u001b[38;5;34m0\u001b[0m │\n",
              "├─────────────────────────────────┼────────────────────────┼───────────────┤\n",
              "│ block4_conv1 (\u001b[38;5;33mConv2D\u001b[0m)           │ (\u001b[38;5;45mNone\u001b[0m, \u001b[38;5;34m28\u001b[0m, \u001b[38;5;34m28\u001b[0m, \u001b[38;5;34m512\u001b[0m)    │     \u001b[38;5;34m1,180,160\u001b[0m │\n",
              "├─────────────────────────────────┼────────────────────────┼───────────────┤\n",
              "│ block4_conv2 (\u001b[38;5;33mConv2D\u001b[0m)           │ (\u001b[38;5;45mNone\u001b[0m, \u001b[38;5;34m28\u001b[0m, \u001b[38;5;34m28\u001b[0m, \u001b[38;5;34m512\u001b[0m)    │     \u001b[38;5;34m2,359,808\u001b[0m │\n",
              "├─────────────────────────────────┼────────────────────────┼───────────────┤\n",
              "│ block4_conv3 (\u001b[38;5;33mConv2D\u001b[0m)           │ (\u001b[38;5;45mNone\u001b[0m, \u001b[38;5;34m28\u001b[0m, \u001b[38;5;34m28\u001b[0m, \u001b[38;5;34m512\u001b[0m)    │     \u001b[38;5;34m2,359,808\u001b[0m │\n",
              "├─────────────────────────────────┼────────────────────────┼───────────────┤\n",
              "│ block4_pool (\u001b[38;5;33mMaxPooling2D\u001b[0m)      │ (\u001b[38;5;45mNone\u001b[0m, \u001b[38;5;34m14\u001b[0m, \u001b[38;5;34m14\u001b[0m, \u001b[38;5;34m512\u001b[0m)    │             \u001b[38;5;34m0\u001b[0m │\n",
              "├─────────────────────────────────┼────────────────────────┼───────────────┤\n",
              "│ block5_conv1 (\u001b[38;5;33mConv2D\u001b[0m)           │ (\u001b[38;5;45mNone\u001b[0m, \u001b[38;5;34m14\u001b[0m, \u001b[38;5;34m14\u001b[0m, \u001b[38;5;34m512\u001b[0m)    │     \u001b[38;5;34m2,359,808\u001b[0m │\n",
              "├─────────────────────────────────┼────────────────────────┼───────────────┤\n",
              "│ block5_conv2 (\u001b[38;5;33mConv2D\u001b[0m)           │ (\u001b[38;5;45mNone\u001b[0m, \u001b[38;5;34m14\u001b[0m, \u001b[38;5;34m14\u001b[0m, \u001b[38;5;34m512\u001b[0m)    │     \u001b[38;5;34m2,359,808\u001b[0m │\n",
              "├─────────────────────────────────┼────────────────────────┼───────────────┤\n",
              "│ block5_conv3 (\u001b[38;5;33mConv2D\u001b[0m)           │ (\u001b[38;5;45mNone\u001b[0m, \u001b[38;5;34m14\u001b[0m, \u001b[38;5;34m14\u001b[0m, \u001b[38;5;34m512\u001b[0m)    │     \u001b[38;5;34m2,359,808\u001b[0m │\n",
              "├─────────────────────────────────┼────────────────────────┼───────────────┤\n",
              "│ block5_pool (\u001b[38;5;33mMaxPooling2D\u001b[0m)      │ (\u001b[38;5;45mNone\u001b[0m, \u001b[38;5;34m7\u001b[0m, \u001b[38;5;34m7\u001b[0m, \u001b[38;5;34m512\u001b[0m)      │             \u001b[38;5;34m0\u001b[0m │\n",
              "├─────────────────────────────────┼────────────────────────┼───────────────┤\n",
              "│ global_average_pooling2d_1      │ (\u001b[38;5;45mNone\u001b[0m, \u001b[38;5;34m512\u001b[0m)            │             \u001b[38;5;34m0\u001b[0m │\n",
              "│ (\u001b[38;5;33mGlobalAveragePooling2D\u001b[0m)        │                        │               │\n",
              "├─────────────────────────────────┼────────────────────────┼───────────────┤\n",
              "│ dense_3 (\u001b[38;5;33mDense\u001b[0m)                 │ (\u001b[38;5;45mNone\u001b[0m, \u001b[38;5;34m256\u001b[0m)            │       \u001b[38;5;34m131,328\u001b[0m │\n",
              "├─────────────────────────────────┼────────────────────────┼───────────────┤\n",
              "│ batch_normalization_2           │ (\u001b[38;5;45mNone\u001b[0m, \u001b[38;5;34m256\u001b[0m)            │         \u001b[38;5;34m1,024\u001b[0m │\n",
              "│ (\u001b[38;5;33mBatchNormalization\u001b[0m)            │                        │               │\n",
              "├─────────────────────────────────┼────────────────────────┼───────────────┤\n",
              "│ dropout_2 (\u001b[38;5;33mDropout\u001b[0m)             │ (\u001b[38;5;45mNone\u001b[0m, \u001b[38;5;34m256\u001b[0m)            │             \u001b[38;5;34m0\u001b[0m │\n",
              "├─────────────────────────────────┼────────────────────────┼───────────────┤\n",
              "│ dense_4 (\u001b[38;5;33mDense\u001b[0m)                 │ (\u001b[38;5;45mNone\u001b[0m, \u001b[38;5;34m128\u001b[0m)            │        \u001b[38;5;34m32,896\u001b[0m │\n",
              "├─────────────────────────────────┼────────────────────────┼───────────────┤\n",
              "│ batch_normalization_3           │ (\u001b[38;5;45mNone\u001b[0m, \u001b[38;5;34m128\u001b[0m)            │           \u001b[38;5;34m512\u001b[0m │\n",
              "│ (\u001b[38;5;33mBatchNormalization\u001b[0m)            │                        │               │\n",
              "├─────────────────────────────────┼────────────────────────┼───────────────┤\n",
              "│ dropout_3 (\u001b[38;5;33mDropout\u001b[0m)             │ (\u001b[38;5;45mNone\u001b[0m, \u001b[38;5;34m128\u001b[0m)            │             \u001b[38;5;34m0\u001b[0m │\n",
              "├─────────────────────────────────┼────────────────────────┼───────────────┤\n",
              "│ dense_5 (\u001b[38;5;33mDense\u001b[0m)                 │ (\u001b[38;5;45mNone\u001b[0m, \u001b[38;5;34m4\u001b[0m)              │           \u001b[38;5;34m516\u001b[0m │\n",
              "└─────────────────────────────────┴────────────────────────┴───────────────┘\n"
            ],
            "text/html": [
              "<pre style=\"white-space:pre;overflow-x:auto;line-height:normal;font-family:Menlo,'DejaVu Sans Mono',consolas,'Courier New',monospace\">┏━━━━━━━━━━━━━━━━━━━━━━━━━━━━━━━━━┳━━━━━━━━━━━━━━━━━━━━━━━━┳━━━━━━━━━━━━━━━┓\n",
              "┃<span style=\"font-weight: bold\"> Layer (type)                    </span>┃<span style=\"font-weight: bold\"> Output Shape           </span>┃<span style=\"font-weight: bold\">       Param # </span>┃\n",
              "┡━━━━━━━━━━━━━━━━━━━━━━━━━━━━━━━━━╇━━━━━━━━━━━━━━━━━━━━━━━━╇━━━━━━━━━━━━━━━┩\n",
              "│ input_layer_1 (<span style=\"color: #0087ff; text-decoration-color: #0087ff\">InputLayer</span>)      │ (<span style=\"color: #00d7ff; text-decoration-color: #00d7ff\">None</span>, <span style=\"color: #00af00; text-decoration-color: #00af00\">224</span>, <span style=\"color: #00af00; text-decoration-color: #00af00\">224</span>, <span style=\"color: #00af00; text-decoration-color: #00af00\">3</span>)    │             <span style=\"color: #00af00; text-decoration-color: #00af00\">0</span> │\n",
              "├─────────────────────────────────┼────────────────────────┼───────────────┤\n",
              "│ block1_conv1 (<span style=\"color: #0087ff; text-decoration-color: #0087ff\">Conv2D</span>)           │ (<span style=\"color: #00d7ff; text-decoration-color: #00d7ff\">None</span>, <span style=\"color: #00af00; text-decoration-color: #00af00\">224</span>, <span style=\"color: #00af00; text-decoration-color: #00af00\">224</span>, <span style=\"color: #00af00; text-decoration-color: #00af00\">64</span>)   │         <span style=\"color: #00af00; text-decoration-color: #00af00\">1,792</span> │\n",
              "├─────────────────────────────────┼────────────────────────┼───────────────┤\n",
              "│ block1_conv2 (<span style=\"color: #0087ff; text-decoration-color: #0087ff\">Conv2D</span>)           │ (<span style=\"color: #00d7ff; text-decoration-color: #00d7ff\">None</span>, <span style=\"color: #00af00; text-decoration-color: #00af00\">224</span>, <span style=\"color: #00af00; text-decoration-color: #00af00\">224</span>, <span style=\"color: #00af00; text-decoration-color: #00af00\">64</span>)   │        <span style=\"color: #00af00; text-decoration-color: #00af00\">36,928</span> │\n",
              "├─────────────────────────────────┼────────────────────────┼───────────────┤\n",
              "│ block1_pool (<span style=\"color: #0087ff; text-decoration-color: #0087ff\">MaxPooling2D</span>)      │ (<span style=\"color: #00d7ff; text-decoration-color: #00d7ff\">None</span>, <span style=\"color: #00af00; text-decoration-color: #00af00\">112</span>, <span style=\"color: #00af00; text-decoration-color: #00af00\">112</span>, <span style=\"color: #00af00; text-decoration-color: #00af00\">64</span>)   │             <span style=\"color: #00af00; text-decoration-color: #00af00\">0</span> │\n",
              "├─────────────────────────────────┼────────────────────────┼───────────────┤\n",
              "│ block2_conv1 (<span style=\"color: #0087ff; text-decoration-color: #0087ff\">Conv2D</span>)           │ (<span style=\"color: #00d7ff; text-decoration-color: #00d7ff\">None</span>, <span style=\"color: #00af00; text-decoration-color: #00af00\">112</span>, <span style=\"color: #00af00; text-decoration-color: #00af00\">112</span>, <span style=\"color: #00af00; text-decoration-color: #00af00\">128</span>)  │        <span style=\"color: #00af00; text-decoration-color: #00af00\">73,856</span> │\n",
              "├─────────────────────────────────┼────────────────────────┼───────────────┤\n",
              "│ block2_conv2 (<span style=\"color: #0087ff; text-decoration-color: #0087ff\">Conv2D</span>)           │ (<span style=\"color: #00d7ff; text-decoration-color: #00d7ff\">None</span>, <span style=\"color: #00af00; text-decoration-color: #00af00\">112</span>, <span style=\"color: #00af00; text-decoration-color: #00af00\">112</span>, <span style=\"color: #00af00; text-decoration-color: #00af00\">128</span>)  │       <span style=\"color: #00af00; text-decoration-color: #00af00\">147,584</span> │\n",
              "├─────────────────────────────────┼────────────────────────┼───────────────┤\n",
              "│ block2_pool (<span style=\"color: #0087ff; text-decoration-color: #0087ff\">MaxPooling2D</span>)      │ (<span style=\"color: #00d7ff; text-decoration-color: #00d7ff\">None</span>, <span style=\"color: #00af00; text-decoration-color: #00af00\">56</span>, <span style=\"color: #00af00; text-decoration-color: #00af00\">56</span>, <span style=\"color: #00af00; text-decoration-color: #00af00\">128</span>)    │             <span style=\"color: #00af00; text-decoration-color: #00af00\">0</span> │\n",
              "├─────────────────────────────────┼────────────────────────┼───────────────┤\n",
              "│ block3_conv1 (<span style=\"color: #0087ff; text-decoration-color: #0087ff\">Conv2D</span>)           │ (<span style=\"color: #00d7ff; text-decoration-color: #00d7ff\">None</span>, <span style=\"color: #00af00; text-decoration-color: #00af00\">56</span>, <span style=\"color: #00af00; text-decoration-color: #00af00\">56</span>, <span style=\"color: #00af00; text-decoration-color: #00af00\">256</span>)    │       <span style=\"color: #00af00; text-decoration-color: #00af00\">295,168</span> │\n",
              "├─────────────────────────────────┼────────────────────────┼───────────────┤\n",
              "│ block3_conv2 (<span style=\"color: #0087ff; text-decoration-color: #0087ff\">Conv2D</span>)           │ (<span style=\"color: #00d7ff; text-decoration-color: #00d7ff\">None</span>, <span style=\"color: #00af00; text-decoration-color: #00af00\">56</span>, <span style=\"color: #00af00; text-decoration-color: #00af00\">56</span>, <span style=\"color: #00af00; text-decoration-color: #00af00\">256</span>)    │       <span style=\"color: #00af00; text-decoration-color: #00af00\">590,080</span> │\n",
              "├─────────────────────────────────┼────────────────────────┼───────────────┤\n",
              "│ block3_conv3 (<span style=\"color: #0087ff; text-decoration-color: #0087ff\">Conv2D</span>)           │ (<span style=\"color: #00d7ff; text-decoration-color: #00d7ff\">None</span>, <span style=\"color: #00af00; text-decoration-color: #00af00\">56</span>, <span style=\"color: #00af00; text-decoration-color: #00af00\">56</span>, <span style=\"color: #00af00; text-decoration-color: #00af00\">256</span>)    │       <span style=\"color: #00af00; text-decoration-color: #00af00\">590,080</span> │\n",
              "├─────────────────────────────────┼────────────────────────┼───────────────┤\n",
              "│ block3_pool (<span style=\"color: #0087ff; text-decoration-color: #0087ff\">MaxPooling2D</span>)      │ (<span style=\"color: #00d7ff; text-decoration-color: #00d7ff\">None</span>, <span style=\"color: #00af00; text-decoration-color: #00af00\">28</span>, <span style=\"color: #00af00; text-decoration-color: #00af00\">28</span>, <span style=\"color: #00af00; text-decoration-color: #00af00\">256</span>)    │             <span style=\"color: #00af00; text-decoration-color: #00af00\">0</span> │\n",
              "├─────────────────────────────────┼────────────────────────┼───────────────┤\n",
              "│ block4_conv1 (<span style=\"color: #0087ff; text-decoration-color: #0087ff\">Conv2D</span>)           │ (<span style=\"color: #00d7ff; text-decoration-color: #00d7ff\">None</span>, <span style=\"color: #00af00; text-decoration-color: #00af00\">28</span>, <span style=\"color: #00af00; text-decoration-color: #00af00\">28</span>, <span style=\"color: #00af00; text-decoration-color: #00af00\">512</span>)    │     <span style=\"color: #00af00; text-decoration-color: #00af00\">1,180,160</span> │\n",
              "├─────────────────────────────────┼────────────────────────┼───────────────┤\n",
              "│ block4_conv2 (<span style=\"color: #0087ff; text-decoration-color: #0087ff\">Conv2D</span>)           │ (<span style=\"color: #00d7ff; text-decoration-color: #00d7ff\">None</span>, <span style=\"color: #00af00; text-decoration-color: #00af00\">28</span>, <span style=\"color: #00af00; text-decoration-color: #00af00\">28</span>, <span style=\"color: #00af00; text-decoration-color: #00af00\">512</span>)    │     <span style=\"color: #00af00; text-decoration-color: #00af00\">2,359,808</span> │\n",
              "├─────────────────────────────────┼────────────────────────┼───────────────┤\n",
              "│ block4_conv3 (<span style=\"color: #0087ff; text-decoration-color: #0087ff\">Conv2D</span>)           │ (<span style=\"color: #00d7ff; text-decoration-color: #00d7ff\">None</span>, <span style=\"color: #00af00; text-decoration-color: #00af00\">28</span>, <span style=\"color: #00af00; text-decoration-color: #00af00\">28</span>, <span style=\"color: #00af00; text-decoration-color: #00af00\">512</span>)    │     <span style=\"color: #00af00; text-decoration-color: #00af00\">2,359,808</span> │\n",
              "├─────────────────────────────────┼────────────────────────┼───────────────┤\n",
              "│ block4_pool (<span style=\"color: #0087ff; text-decoration-color: #0087ff\">MaxPooling2D</span>)      │ (<span style=\"color: #00d7ff; text-decoration-color: #00d7ff\">None</span>, <span style=\"color: #00af00; text-decoration-color: #00af00\">14</span>, <span style=\"color: #00af00; text-decoration-color: #00af00\">14</span>, <span style=\"color: #00af00; text-decoration-color: #00af00\">512</span>)    │             <span style=\"color: #00af00; text-decoration-color: #00af00\">0</span> │\n",
              "├─────────────────────────────────┼────────────────────────┼───────────────┤\n",
              "│ block5_conv1 (<span style=\"color: #0087ff; text-decoration-color: #0087ff\">Conv2D</span>)           │ (<span style=\"color: #00d7ff; text-decoration-color: #00d7ff\">None</span>, <span style=\"color: #00af00; text-decoration-color: #00af00\">14</span>, <span style=\"color: #00af00; text-decoration-color: #00af00\">14</span>, <span style=\"color: #00af00; text-decoration-color: #00af00\">512</span>)    │     <span style=\"color: #00af00; text-decoration-color: #00af00\">2,359,808</span> │\n",
              "├─────────────────────────────────┼────────────────────────┼───────────────┤\n",
              "│ block5_conv2 (<span style=\"color: #0087ff; text-decoration-color: #0087ff\">Conv2D</span>)           │ (<span style=\"color: #00d7ff; text-decoration-color: #00d7ff\">None</span>, <span style=\"color: #00af00; text-decoration-color: #00af00\">14</span>, <span style=\"color: #00af00; text-decoration-color: #00af00\">14</span>, <span style=\"color: #00af00; text-decoration-color: #00af00\">512</span>)    │     <span style=\"color: #00af00; text-decoration-color: #00af00\">2,359,808</span> │\n",
              "├─────────────────────────────────┼────────────────────────┼───────────────┤\n",
              "│ block5_conv3 (<span style=\"color: #0087ff; text-decoration-color: #0087ff\">Conv2D</span>)           │ (<span style=\"color: #00d7ff; text-decoration-color: #00d7ff\">None</span>, <span style=\"color: #00af00; text-decoration-color: #00af00\">14</span>, <span style=\"color: #00af00; text-decoration-color: #00af00\">14</span>, <span style=\"color: #00af00; text-decoration-color: #00af00\">512</span>)    │     <span style=\"color: #00af00; text-decoration-color: #00af00\">2,359,808</span> │\n",
              "├─────────────────────────────────┼────────────────────────┼───────────────┤\n",
              "│ block5_pool (<span style=\"color: #0087ff; text-decoration-color: #0087ff\">MaxPooling2D</span>)      │ (<span style=\"color: #00d7ff; text-decoration-color: #00d7ff\">None</span>, <span style=\"color: #00af00; text-decoration-color: #00af00\">7</span>, <span style=\"color: #00af00; text-decoration-color: #00af00\">7</span>, <span style=\"color: #00af00; text-decoration-color: #00af00\">512</span>)      │             <span style=\"color: #00af00; text-decoration-color: #00af00\">0</span> │\n",
              "├─────────────────────────────────┼────────────────────────┼───────────────┤\n",
              "│ global_average_pooling2d_1      │ (<span style=\"color: #00d7ff; text-decoration-color: #00d7ff\">None</span>, <span style=\"color: #00af00; text-decoration-color: #00af00\">512</span>)            │             <span style=\"color: #00af00; text-decoration-color: #00af00\">0</span> │\n",
              "│ (<span style=\"color: #0087ff; text-decoration-color: #0087ff\">GlobalAveragePooling2D</span>)        │                        │               │\n",
              "├─────────────────────────────────┼────────────────────────┼───────────────┤\n",
              "│ dense_3 (<span style=\"color: #0087ff; text-decoration-color: #0087ff\">Dense</span>)                 │ (<span style=\"color: #00d7ff; text-decoration-color: #00d7ff\">None</span>, <span style=\"color: #00af00; text-decoration-color: #00af00\">256</span>)            │       <span style=\"color: #00af00; text-decoration-color: #00af00\">131,328</span> │\n",
              "├─────────────────────────────────┼────────────────────────┼───────────────┤\n",
              "│ batch_normalization_2           │ (<span style=\"color: #00d7ff; text-decoration-color: #00d7ff\">None</span>, <span style=\"color: #00af00; text-decoration-color: #00af00\">256</span>)            │         <span style=\"color: #00af00; text-decoration-color: #00af00\">1,024</span> │\n",
              "│ (<span style=\"color: #0087ff; text-decoration-color: #0087ff\">BatchNormalization</span>)            │                        │               │\n",
              "├─────────────────────────────────┼────────────────────────┼───────────────┤\n",
              "│ dropout_2 (<span style=\"color: #0087ff; text-decoration-color: #0087ff\">Dropout</span>)             │ (<span style=\"color: #00d7ff; text-decoration-color: #00d7ff\">None</span>, <span style=\"color: #00af00; text-decoration-color: #00af00\">256</span>)            │             <span style=\"color: #00af00; text-decoration-color: #00af00\">0</span> │\n",
              "├─────────────────────────────────┼────────────────────────┼───────────────┤\n",
              "│ dense_4 (<span style=\"color: #0087ff; text-decoration-color: #0087ff\">Dense</span>)                 │ (<span style=\"color: #00d7ff; text-decoration-color: #00d7ff\">None</span>, <span style=\"color: #00af00; text-decoration-color: #00af00\">128</span>)            │        <span style=\"color: #00af00; text-decoration-color: #00af00\">32,896</span> │\n",
              "├─────────────────────────────────┼────────────────────────┼───────────────┤\n",
              "│ batch_normalization_3           │ (<span style=\"color: #00d7ff; text-decoration-color: #00d7ff\">None</span>, <span style=\"color: #00af00; text-decoration-color: #00af00\">128</span>)            │           <span style=\"color: #00af00; text-decoration-color: #00af00\">512</span> │\n",
              "│ (<span style=\"color: #0087ff; text-decoration-color: #0087ff\">BatchNormalization</span>)            │                        │               │\n",
              "├─────────────────────────────────┼────────────────────────┼───────────────┤\n",
              "│ dropout_3 (<span style=\"color: #0087ff; text-decoration-color: #0087ff\">Dropout</span>)             │ (<span style=\"color: #00d7ff; text-decoration-color: #00d7ff\">None</span>, <span style=\"color: #00af00; text-decoration-color: #00af00\">128</span>)            │             <span style=\"color: #00af00; text-decoration-color: #00af00\">0</span> │\n",
              "├─────────────────────────────────┼────────────────────────┼───────────────┤\n",
              "│ dense_5 (<span style=\"color: #0087ff; text-decoration-color: #0087ff\">Dense</span>)                 │ (<span style=\"color: #00d7ff; text-decoration-color: #00d7ff\">None</span>, <span style=\"color: #00af00; text-decoration-color: #00af00\">4</span>)              │           <span style=\"color: #00af00; text-decoration-color: #00af00\">516</span> │\n",
              "└─────────────────────────────────┴────────────────────────┴───────────────┘\n",
              "</pre>\n"
            ]
          },
          "metadata": {}
        },
        {
          "output_type": "display_data",
          "data": {
            "text/plain": [
              "\u001b[1m Total params: \u001b[0m\u001b[38;5;34m14,880,964\u001b[0m (56.77 MB)\n"
            ],
            "text/html": [
              "<pre style=\"white-space:pre;overflow-x:auto;line-height:normal;font-family:Menlo,'DejaVu Sans Mono',consolas,'Courier New',monospace\"><span style=\"font-weight: bold\"> Total params: </span><span style=\"color: #00af00; text-decoration-color: #00af00\">14,880,964</span> (56.77 MB)\n",
              "</pre>\n"
            ]
          },
          "metadata": {}
        },
        {
          "output_type": "display_data",
          "data": {
            "text/plain": [
              "\u001b[1m Trainable params: \u001b[0m\u001b[38;5;34m165,508\u001b[0m (646.52 KB)\n"
            ],
            "text/html": [
              "<pre style=\"white-space:pre;overflow-x:auto;line-height:normal;font-family:Menlo,'DejaVu Sans Mono',consolas,'Courier New',monospace\"><span style=\"font-weight: bold\"> Trainable params: </span><span style=\"color: #00af00; text-decoration-color: #00af00\">165,508</span> (646.52 KB)\n",
              "</pre>\n"
            ]
          },
          "metadata": {}
        },
        {
          "output_type": "display_data",
          "data": {
            "text/plain": [
              "\u001b[1m Non-trainable params: \u001b[0m\u001b[38;5;34m14,715,456\u001b[0m (56.14 MB)\n"
            ],
            "text/html": [
              "<pre style=\"white-space:pre;overflow-x:auto;line-height:normal;font-family:Menlo,'DejaVu Sans Mono',consolas,'Courier New',monospace\"><span style=\"font-weight: bold\"> Non-trainable params: </span><span style=\"color: #00af00; text-decoration-color: #00af00\">14,715,456</span> (56.14 MB)\n",
              "</pre>\n"
            ]
          },
          "metadata": {}
        },
        {
          "output_type": "stream",
          "name": "stdout",
          "text": [
            "None\n"
          ]
        }
      ]
    },
    {
      "cell_type": "code",
      "source": [
        "train_df = create_image_dataframe('/tmp/subset_dataset/train')\n",
        "print(train_df['label'].value_counts())"
      ],
      "metadata": {
        "id": "JW_HvOrzrKo4",
        "colab": {
          "base_uri": "https://localhost:8080/"
        },
        "outputId": "ed0ce6c6-470c-483c-92ec-755373b373d8"
      },
      "execution_count": null,
      "outputs": [
        {
          "output_type": "stream",
          "name": "stdout",
          "text": [
            "label\n",
            "Non Demented          10755\n",
            "Very mild Dementia     2196\n",
            "Mild Dementia           800\n",
            "Moderate Dementia        78\n",
            "Name: count, dtype: int64\n"
          ]
        }
      ]
    },
    {
      "cell_type": "code",
      "source": [
        "from sklearn.utils.class_weight import compute_class_weight\n",
        "# ImageDataGenerators\n",
        "train_datagen = ImageDataGenerator(\n",
        "    rescale=1./255,\n",
        "    rotation_range=10,\n",
        "    width_shift_range=0.05,\n",
        "    height_shift_range=0.05,\n",
        "    zoom_range=0.1,\n",
        "    fill_mode='nearest'\n",
        ")\n",
        "val_datagen = ImageDataGenerator(rescale=1./255)\n",
        "\n",
        "# Cross-validation setup\n",
        "X = train_df['filename'].values\n",
        "y = train_df['label'].values\n",
        "skf = StratifiedKFold(n_splits=3, shuffle=True, random_state=42)\n",
        "\n",
        "fold = 1\n",
        "for train_idx, val_idx in skf.split(X, y):\n",
        "    print(f\"\\n🚀 Starting Fold {fold}\")\n",
        "\n",
        "    train_data = train_df.iloc[train_idx]\n",
        "    val_data = train_df.iloc[val_idx]\n",
        "\n",
        "    class_weights = compute_class_weight(class_weight='balanced', classes=np.unique(y[train_idx]), y=y[train_idx])\n",
        "    class_weights_dict = dict(zip(np.unique(y[train_idx]), class_weights))\n",
        "    print(f\"Class Weights for Fold {fold}: {class_weights_dict}\")\n",
        "\n",
        "    train_generator = train_datagen.flow_from_dataframe(\n",
        "        train_data,\n",
        "        x_col='filename',\n",
        "        y_col='label',\n",
        "        target_size=(224, 224),\n",
        "        class_mode='categorical',\n",
        "        batch_size=32\n",
        "    )\n",
        "    val_generator = val_datagen.flow_from_dataframe(\n",
        "        val_data,\n",
        "        x_col='filename',\n",
        "        y_col='label',\n",
        "        target_size=(224, 224),\n",
        "        class_mode='categorical',\n",
        "        batch_size=32\n",
        "    )\n",
        "\n",
        "    vgg16 = VGG16(input_shape=(224,224,3), weights='imagenet', include_top=False)\n",
        "    for layer in vgg16.layers:\n",
        "        layer.trainable = False\n",
        "\n",
        "    num_classes = 4\n",
        "    FC_Head = lw(vgg16, num_classes)\n",
        "    model = Model(inputs=vgg16.input, outputs=FC_Head)\n",
        "\n",
        "    model.compile(\n",
        "        optimizer=Adam(learning_rate=1e-4),\n",
        "        loss='categorical_crossentropy',\n",
        "        metrics=['accuracy', 'Precision', 'Recall']\n",
        "    )\n",
        "\n",
        "    early_stop = EarlyStopping(monitor='val_loss', patience=10, restore_best_weights=True)\n",
        "    reduce_lr = ReduceLROnPlateau(monitor='val_loss', factor=0.2, patience=5, min_lr=1e-6)\n",
        "\n",
        "    history = model.fit(\n",
        "        train_generator,\n",
        "        validation_data=val_generator,\n",
        "        epochs=50,\n",
        "        class_weight=class_weights_dict,\n",
        "        callbacks=[early_stop, reduce_lr],\n",
        "        verbose=1\n",
        "    )\n",
        "\n",
        "    model.save(f\"/content/drive/MyDrive/models/vgg16v4.h5\")\n",
        "\n",
        "    scores = model.evaluate(val_generator, verbose=0)\n",
        "    print(f\"Fold {fold} — Accuracy: {scores[1]:.4f}, Precision: {scores[2]:.4f}, Recall: {scores[3]:.4f}\")\n",
        "\n",
        "    fold += 1\n"
      ],
      "metadata": {
        "id": "M0E2dE9Tq6hp",
        "colab": {
          "base_uri": "https://localhost:8080/"
        },
        "outputId": "f6ccc80b-d8a1-4629-9c56-d0bf28b0b72d"
      },
      "execution_count": null,
      "outputs": [
        {
          "metadata": {
            "tags": null
          },
          "name": "stdout",
          "output_type": "stream",
          "text": [
            "\n",
            "🚀 Starting Fold 1\n",
            "Class Weights for Fold 1: {'Mild Dementia': np.float64(4.324108818011257), 'Moderate Dementia': np.float64(44.32211538461539), 'Non Demented': np.float64(0.32144351464435145), 'Very mild Dementia': np.float64(1.5742827868852458)}\n",
            "Found 9219 validated image filenames belonging to 4 classes.\n",
            "Found 4610 validated image filenames belonging to 4 classes.\n"
          ]
        },
        {
          "metadata": {
            "tags": null
          },
          "name": "stderr",
          "output_type": "stream",
          "text": [
            "/usr/local/lib/python3.11/dist-packages/keras/src/trainers/data_adapters/py_dataset_adapter.py:121: UserWarning: Your `PyDataset` class should call `super().__init__(**kwargs)` in its constructor. `**kwargs` can include `workers`, `use_multiprocessing`, `max_queue_size`. Do not pass these arguments to `fit()`, as they will be ignored.\n",
            "  self._warn_if_super_not_called()\n"
          ]
        },
        {
          "metadata": {
            "tags": null
          },
          "name": "stdout",
          "output_type": "stream",
          "text": [
            "Epoch 1/50\n",
            "\u001b[1m289/289\u001b[0m \u001b[32m━━━━━━━━━━━━━━━━━━━━\u001b[0m\u001b[37m\u001b[0m \u001b[1m197s\u001b[0m 620ms/step - Precision: 0.3038 - Recall: 0.2336 - accuracy: 0.2861 - loss: 2.2137 - val_Precision: 0.9632 - val_Recall: 0.1475 - val_accuracy: 0.7241 - val_loss: 1.0254 - learning_rate: 1.0000e-04\n",
            "Epoch 2/50\n",
            "\u001b[1m289/289\u001b[0m \u001b[32m━━━━━━━━━━━━━━━━━━━━\u001b[0m\u001b[37m\u001b[0m \u001b[1m175s\u001b[0m 604ms/step - Precision: 0.4051 - Recall: 0.2998 - accuracy: 0.3830 - loss: 1.7569 - val_Precision: 0.8361 - val_Recall: 0.5102 - val_accuracy: 0.7087 - val_loss: 0.8643 - learning_rate: 1.0000e-04\n",
            "Epoch 3/50\n",
            "\u001b[1m289/289\u001b[0m \u001b[32m━━━━━━━━━━━━━━━━━━━━\u001b[0m\u001b[37m\u001b[0m \u001b[1m166s\u001b[0m 574ms/step - Precision: 0.5246 - Recall: 0.3892 - accuracy: 0.4722 - loss: 1.4534 - val_Precision: 0.8543 - val_Recall: 0.6052 - val_accuracy: 0.7453 - val_loss: 0.7650 - learning_rate: 1.0000e-04\n",
            "Epoch 4/50\n",
            "\u001b[1m289/289\u001b[0m \u001b[32m━━━━━━━━━━━━━━━━━━━━\u001b[0m\u001b[37m\u001b[0m \u001b[1m168s\u001b[0m 580ms/step - Precision: 0.5949 - Recall: 0.4341 - accuracy: 0.5220 - loss: 1.2616 - val_Precision: 0.8447 - val_Recall: 0.6477 - val_accuracy: 0.7603 - val_loss: 0.7088 - learning_rate: 1.0000e-04\n",
            "Epoch 5/50\n",
            "\u001b[1m289/289\u001b[0m \u001b[32m━━━━━━━━━━━━━━━━━━━━\u001b[0m\u001b[37m\u001b[0m \u001b[1m166s\u001b[0m 575ms/step - Precision: 0.6560 - Recall: 0.4935 - accuracy: 0.5838 - loss: 1.1064 - val_Precision: 0.8394 - val_Recall: 0.6963 - val_accuracy: 0.7787 - val_loss: 0.6286 - learning_rate: 1.0000e-04\n",
            "Epoch 6/50\n",
            "\u001b[1m289/289\u001b[0m \u001b[32m━━━━━━━━━━━━━━━━━━━━\u001b[0m\u001b[37m\u001b[0m \u001b[1m167s\u001b[0m 576ms/step - Precision: 0.6953 - Recall: 0.5434 - accuracy: 0.6240 - loss: 1.0106 - val_Precision: 0.8380 - val_Recall: 0.7145 - val_accuracy: 0.7790 - val_loss: 0.5961 - learning_rate: 1.0000e-04\n",
            "Epoch 7/50\n",
            "\u001b[1m289/289\u001b[0m \u001b[32m━━━━━━━━━━━━━━━━━━━━\u001b[0m\u001b[37m\u001b[0m \u001b[1m168s\u001b[0m 582ms/step - Precision: 0.7356 - Recall: 0.5932 - accuracy: 0.6695 - loss: 0.9201 - val_Precision: 0.8317 - val_Recall: 0.7373 - val_accuracy: 0.7831 - val_loss: 0.5694 - learning_rate: 1.0000e-04\n",
            "Epoch 8/50\n",
            "\u001b[1m289/289\u001b[0m \u001b[32m━━━━━━━━━━━━━━━━━━━━\u001b[0m\u001b[37m\u001b[0m \u001b[1m166s\u001b[0m 574ms/step - Precision: 0.7459 - Recall: 0.6295 - accuracy: 0.6921 - loss: 0.8732 - val_Precision: 0.8275 - val_Recall: 0.7484 - val_accuracy: 0.7866 - val_loss: 0.5488 - learning_rate: 1.0000e-04\n",
            "Epoch 9/50\n",
            "\u001b[1m289/289\u001b[0m \u001b[32m━━━━━━━━━━━━━━━━━━━━\u001b[0m\u001b[37m\u001b[0m \u001b[1m167s\u001b[0m 580ms/step - Precision: 0.7717 - Recall: 0.6488 - accuracy: 0.7128 - loss: 0.7961 - val_Precision: 0.8228 - val_Recall: 0.7484 - val_accuracy: 0.7846 - val_loss: 0.5443 - learning_rate: 1.0000e-04\n",
            "Epoch 10/50\n",
            "\u001b[1m289/289\u001b[0m \u001b[32m━━━━━━━━━━━━━━━━━━━━\u001b[0m\u001b[37m\u001b[0m \u001b[1m165s\u001b[0m 571ms/step - Precision: 0.7828 - Recall: 0.6742 - accuracy: 0.7330 - loss: 0.7496 - val_Precision: 0.8137 - val_Recall: 0.7588 - val_accuracy: 0.7842 - val_loss: 0.5383 - learning_rate: 1.0000e-04\n",
            "Epoch 11/50\n",
            "\u001b[1m289/289\u001b[0m \u001b[32m━━━━━━━━━━━━━━━━━━━━\u001b[0m\u001b[37m\u001b[0m \u001b[1m168s\u001b[0m 580ms/step - Precision: 0.7767 - Recall: 0.6845 - accuracy: 0.7345 - loss: 0.7281 - val_Precision: 0.8144 - val_Recall: 0.7633 - val_accuracy: 0.7887 - val_loss: 0.5276 - learning_rate: 1.0000e-04\n",
            "Epoch 12/50\n",
            "\u001b[1m289/289\u001b[0m \u001b[32m━━━━━━━━━━━━━━━━━━━━\u001b[0m\u001b[37m\u001b[0m \u001b[1m165s\u001b[0m 570ms/step - Precision: 0.7818 - Recall: 0.6929 - accuracy: 0.7399 - loss: 0.7250 - val_Precision: 0.8232 - val_Recall: 0.7675 - val_accuracy: 0.7939 - val_loss: 0.5132 - learning_rate: 1.0000e-04\n",
            "Epoch 13/50\n",
            "\u001b[1m289/289\u001b[0m \u001b[32m━━━━━━━━━━━━━━━━━━━━\u001b[0m\u001b[37m\u001b[0m \u001b[1m168s\u001b[0m 580ms/step - Precision: 0.7875 - Recall: 0.7021 - accuracy: 0.7461 - loss: 0.6763 - val_Precision: 0.8205 - val_Recall: 0.7627 - val_accuracy: 0.7911 - val_loss: 0.5094 - learning_rate: 1.0000e-04\n",
            "Epoch 14/50\n",
            "\u001b[1m289/289\u001b[0m \u001b[32m━━━━━━━━━━━━━━━━━━━━\u001b[0m\u001b[37m\u001b[0m \u001b[1m166s\u001b[0m 574ms/step - Precision: 0.8036 - Recall: 0.7201 - accuracy: 0.7657 - loss: 0.6361 - val_Precision: 0.8280 - val_Recall: 0.7631 - val_accuracy: 0.7939 - val_loss: 0.4960 - learning_rate: 1.0000e-04\n",
            "Epoch 15/50\n",
            "\u001b[1m289/289\u001b[0m \u001b[32m━━━━━━━━━━━━━━━━━━━━\u001b[0m\u001b[37m\u001b[0m \u001b[1m168s\u001b[0m 582ms/step - Precision: 0.7964 - Recall: 0.7191 - accuracy: 0.7558 - loss: 0.6523 - val_Precision: 0.8183 - val_Recall: 0.7679 - val_accuracy: 0.7928 - val_loss: 0.5057 - learning_rate: 1.0000e-04\n",
            "Epoch 16/50\n",
            "\u001b[1m289/289\u001b[0m \u001b[32m━━━━━━━━━━━━━━━━━━━━\u001b[0m\u001b[37m\u001b[0m \u001b[1m166s\u001b[0m 576ms/step - Precision: 0.8027 - Recall: 0.7257 - accuracy: 0.7647 - loss: 0.6114 - val_Precision: 0.8169 - val_Recall: 0.7694 - val_accuracy: 0.7896 - val_loss: 0.4960 - learning_rate: 1.0000e-04\n",
            "Epoch 17/50\n",
            "\u001b[1m289/289\u001b[0m \u001b[32m━━━━━━━━━━━━━━━━━━━━\u001b[0m\u001b[37m\u001b[0m \u001b[1m165s\u001b[0m 570ms/step - Precision: 0.8080 - Recall: 0.7305 - accuracy: 0.7745 - loss: 0.6028 - val_Precision: 0.8322 - val_Recall: 0.7690 - val_accuracy: 0.7991 - val_loss: 0.4783 - learning_rate: 1.0000e-04\n",
            "Epoch 18/50\n",
            "\u001b[1m289/289\u001b[0m \u001b[32m━━━━━━━━━━━━━━━━━━━━\u001b[0m\u001b[37m\u001b[0m \u001b[1m167s\u001b[0m 578ms/step - Precision: 0.8098 - Recall: 0.7297 - accuracy: 0.7738 - loss: 0.6042 - val_Precision: 0.8540 - val_Recall: 0.7651 - val_accuracy: 0.8150 - val_loss: 0.4618 - learning_rate: 1.0000e-04\n",
            "Epoch 19/50\n",
            "\u001b[1m289/289\u001b[0m \u001b[32m━━━━━━━━━━━━━━━━━━━━\u001b[0m\u001b[37m\u001b[0m \u001b[1m165s\u001b[0m 570ms/step - Precision: 0.8215 - Recall: 0.7436 - accuracy: 0.7820 - loss: 0.5788 - val_Precision: 0.8208 - val_Recall: 0.7779 - val_accuracy: 0.7985 - val_loss: 0.4819 - learning_rate: 1.0000e-04\n",
            "Epoch 20/50\n",
            "\u001b[1m289/289\u001b[0m \u001b[32m━━━━━━━━━━━━━━━━━━━━\u001b[0m\u001b[37m\u001b[0m \u001b[1m174s\u001b[0m 602ms/step - Precision: 0.8158 - Recall: 0.7431 - accuracy: 0.7825 - loss: 0.5766 - val_Precision: 0.8435 - val_Recall: 0.7753 - val_accuracy: 0.8111 - val_loss: 0.4597 - learning_rate: 1.0000e-04\n",
            "Epoch 21/50\n",
            "\u001b[1m289/289\u001b[0m \u001b[32m━━━━━━━━━━━━━━━━━━━━\u001b[0m\u001b[37m\u001b[0m \u001b[1m165s\u001b[0m 572ms/step - Precision: 0.8130 - Recall: 0.7424 - accuracy: 0.7786 - loss: 0.5705 - val_Precision: 0.8171 - val_Recall: 0.7774 - val_accuracy: 0.7954 - val_loss: 0.4769 - learning_rate: 1.0000e-04\n",
            "Epoch 22/50\n",
            "\u001b[1m289/289\u001b[0m \u001b[32m━━━━━━━━━━━━━━━━━━━━\u001b[0m\u001b[37m\u001b[0m \u001b[1m168s\u001b[0m 582ms/step - Precision: 0.8222 - Recall: 0.7464 - accuracy: 0.7877 - loss: 0.5513 - val_Precision: 0.8304 - val_Recall: 0.7772 - val_accuracy: 0.8011 - val_loss: 0.4643 - learning_rate: 1.0000e-04\n",
            "Epoch 23/50\n",
            "\u001b[1m289/289\u001b[0m \u001b[32m━━━━━━━━━━━━━━━━━━━━\u001b[0m\u001b[37m\u001b[0m \u001b[1m166s\u001b[0m 575ms/step - Precision: 0.8159 - Recall: 0.7367 - accuracy: 0.7785 - loss: 0.5622 - val_Precision: 0.8197 - val_Recall: 0.7733 - val_accuracy: 0.7967 - val_loss: 0.4748 - learning_rate: 1.0000e-04\n",
            "Epoch 24/50\n",
            "\u001b[1m289/289\u001b[0m \u001b[32m━━━━━━━━━━━━━━━━━━━━\u001b[0m\u001b[37m\u001b[0m \u001b[1m165s\u001b[0m 572ms/step - Precision: 0.8101 - Recall: 0.7390 - accuracy: 0.7801 - loss: 0.5667 - val_Precision: 0.8395 - val_Recall: 0.7751 - val_accuracy: 0.8078 - val_loss: 0.4490 - learning_rate: 1.0000e-04\n",
            "Epoch 25/50\n",
            "\u001b[1m289/289\u001b[0m \u001b[32m━━━━━━━━━━━━━━━━━━━━\u001b[0m\u001b[37m\u001b[0m \u001b[1m203s\u001b[0m 576ms/step - Precision: 0.8220 - Recall: 0.7499 - accuracy: 0.7879 - loss: 0.5330 - val_Precision: 0.8194 - val_Recall: 0.7757 - val_accuracy: 0.7948 - val_loss: 0.4622 - learning_rate: 1.0000e-04\n",
            "Epoch 26/50\n",
            "\u001b[1m289/289\u001b[0m \u001b[32m━━━━━━━━━━━━━━━━━━━━\u001b[0m\u001b[37m\u001b[0m \u001b[1m166s\u001b[0m 573ms/step - Precision: 0.8289 - Recall: 0.7535 - accuracy: 0.7929 - loss: 0.5177 - val_Precision: 0.8385 - val_Recall: 0.7837 - val_accuracy: 0.8102 - val_loss: 0.4469 - learning_rate: 1.0000e-04\n",
            "Epoch 27/50\n",
            "\u001b[1m289/289\u001b[0m \u001b[32m━━━━━━━━━━━━━━━━━━━━\u001b[0m\u001b[37m\u001b[0m \u001b[1m182s\u001b[0m 630ms/step - Precision: 0.8346 - Recall: 0.7539 - accuracy: 0.7983 - loss: 0.5137 - val_Precision: 0.8340 - val_Recall: 0.7748 - val_accuracy: 0.8050 - val_loss: 0.4473 - learning_rate: 1.0000e-04\n",
            "Epoch 28/50\n",
            "\u001b[1m289/289\u001b[0m \u001b[32m━━━━━━━━━━━━━━━━━━━━\u001b[0m\u001b[37m\u001b[0m \u001b[1m167s\u001b[0m 577ms/step - Precision: 0.8290 - Recall: 0.7542 - accuracy: 0.7953 - loss: 0.5176 - val_Precision: 0.8298 - val_Recall: 0.7772 - val_accuracy: 0.8046 - val_loss: 0.4507 - learning_rate: 1.0000e-04\n",
            "Epoch 29/50\n",
            "\u001b[1m289/289\u001b[0m \u001b[32m━━━━━━━━━━━━━━━━━━━━\u001b[0m\u001b[37m\u001b[0m \u001b[1m166s\u001b[0m 574ms/step - Precision: 0.8309 - Recall: 0.7519 - accuracy: 0.7921 - loss: 0.5087 - val_Precision: 0.8370 - val_Recall: 0.7774 - val_accuracy: 0.8087 - val_loss: 0.4426 - learning_rate: 1.0000e-04\n",
            "Epoch 30/50\n",
            "\u001b[1m289/289\u001b[0m \u001b[32m━━━━━━━━━━━━━━━━━━━━\u001b[0m\u001b[37m\u001b[0m \u001b[1m166s\u001b[0m 575ms/step - Precision: 0.8327 - Recall: 0.7466 - accuracy: 0.7923 - loss: 0.5190 - val_Precision: 0.8415 - val_Recall: 0.7761 - val_accuracy: 0.8072 - val_loss: 0.4375 - learning_rate: 1.0000e-04\n",
            "Epoch 31/50\n",
            "\u001b[1m289/289\u001b[0m \u001b[32m━━━━━━━━━━━━━━━━━━━━\u001b[0m\u001b[37m\u001b[0m \u001b[1m168s\u001b[0m 580ms/step - Precision: 0.8291 - Recall: 0.7568 - accuracy: 0.7965 - loss: 0.5098 - val_Precision: 0.8584 - val_Recall: 0.7839 - val_accuracy: 0.8213 - val_loss: 0.4264 - learning_rate: 1.0000e-04\n",
            "Epoch 32/50\n",
            "\u001b[1m289/289\u001b[0m \u001b[32m━━━━━━━━━━━━━━━━━━━━\u001b[0m\u001b[37m\u001b[0m \u001b[1m201s\u001b[0m 577ms/step - Precision: 0.8328 - Recall: 0.7527 - accuracy: 0.7935 - loss: 0.4895 - val_Precision: 0.8662 - val_Recall: 0.7781 - val_accuracy: 0.8271 - val_loss: 0.4229 - learning_rate: 1.0000e-04\n",
            "Epoch 33/50\n",
            "\u001b[1m289/289\u001b[0m \u001b[32m━━━━━━━━━━━━━━━━━━━━\u001b[0m\u001b[37m\u001b[0m \u001b[1m167s\u001b[0m 578ms/step - Precision: 0.8365 - Recall: 0.7655 - accuracy: 0.8030 - loss: 0.4890 - val_Precision: 0.8489 - val_Recall: 0.7850 - val_accuracy: 0.8189 - val_loss: 0.4258 - learning_rate: 1.0000e-04\n",
            "Epoch 34/50\n",
            "\u001b[1m289/289\u001b[0m \u001b[32m━━━━━━━━━━━━━━━━━━━━\u001b[0m\u001b[37m\u001b[0m \u001b[1m166s\u001b[0m 575ms/step - Precision: 0.8393 - Recall: 0.7641 - accuracy: 0.8060 - loss: 0.4864 - val_Precision: 0.8123 - val_Recall: 0.7794 - val_accuracy: 0.7952 - val_loss: 0.4777 - learning_rate: 1.0000e-04\n",
            "Epoch 35/50\n",
            "\u001b[1m289/289\u001b[0m \u001b[32m━━━━━━━━━━━━━━━━━━━━\u001b[0m\u001b[37m\u001b[0m \u001b[1m167s\u001b[0m 578ms/step - Precision: 0.8454 - Recall: 0.7628 - accuracy: 0.8066 - loss: 0.4767 - val_Precision: 0.8422 - val_Recall: 0.7781 - val_accuracy: 0.8098 - val_loss: 0.4395 - learning_rate: 1.0000e-04\n",
            "Epoch 36/50\n",
            "\u001b[1m289/289\u001b[0m \u001b[32m━━━━━━━━━━━━━━━━━━━━\u001b[0m\u001b[37m\u001b[0m \u001b[1m166s\u001b[0m 574ms/step - Precision: 0.8289 - Recall: 0.7556 - accuracy: 0.7935 - loss: 0.4952 - val_Precision: 0.8651 - val_Recall: 0.7774 - val_accuracy: 0.8226 - val_loss: 0.4157 - learning_rate: 1.0000e-04\n",
            "Epoch 37/50\n",
            "\u001b[1m289/289\u001b[0m \u001b[32m━━━━━━━━━━━━━━━━━━━━\u001b[0m\u001b[37m\u001b[0m \u001b[1m171s\u001b[0m 593ms/step - Precision: 0.8374 - Recall: 0.7585 - accuracy: 0.7971 - loss: 0.4798 - val_Precision: 0.8645 - val_Recall: 0.7777 - val_accuracy: 0.8252 - val_loss: 0.4134 - learning_rate: 1.0000e-04\n",
            "Epoch 38/50\n",
            "\u001b[1m289/289\u001b[0m \u001b[32m━━━━━━━━━━━━━━━━━━━━\u001b[0m\u001b[37m\u001b[0m \u001b[1m171s\u001b[0m 591ms/step - Precision: 0.8409 - Recall: 0.7616 - accuracy: 0.8014 - loss: 0.4898 - val_Precision: 0.8466 - val_Recall: 0.7879 - val_accuracy: 0.8178 - val_loss: 0.4241 - learning_rate: 1.0000e-04\n",
            "Epoch 39/50\n",
            "\u001b[1m289/289\u001b[0m \u001b[32m━━━━━━━━━━━━━━━━━━━━\u001b[0m\u001b[37m\u001b[0m \u001b[1m199s\u001b[0m 581ms/step - Precision: 0.8498 - Recall: 0.7670 - accuracy: 0.8141 - loss: 0.4628 - val_Precision: 0.8157 - val_Recall: 0.7842 - val_accuracy: 0.7978 - val_loss: 0.4676 - learning_rate: 1.0000e-04\n",
            "Epoch 40/50\n",
            "\u001b[1m289/289\u001b[0m \u001b[32m━━━━━━━━━━━━━━━━━━━━\u001b[0m\u001b[37m\u001b[0m \u001b[1m168s\u001b[0m 582ms/step - Precision: 0.8352 - Recall: 0.7640 - accuracy: 0.8046 - loss: 0.4774 - val_Precision: 0.8535 - val_Recall: 0.7883 - val_accuracy: 0.8215 - val_loss: 0.4126 - learning_rate: 1.0000e-04\n",
            "Epoch 41/50\n",
            "\u001b[1m289/289\u001b[0m \u001b[32m━━━━━━━━━━━━━━━━━━━━\u001b[0m\u001b[37m\u001b[0m \u001b[1m171s\u001b[0m 591ms/step - Precision: 0.8464 - Recall: 0.7701 - accuracy: 0.8091 - loss: 0.4740 - val_Precision: 0.8490 - val_Recall: 0.7926 - val_accuracy: 0.8230 - val_loss: 0.4199 - learning_rate: 1.0000e-04\n",
            "Epoch 42/50\n",
            "\u001b[1m289/289\u001b[0m \u001b[32m━━━━━━━━━━━━━━━━━━━━\u001b[0m\u001b[37m\u001b[0m \u001b[1m165s\u001b[0m 573ms/step - Precision: 0.8427 - Recall: 0.7636 - accuracy: 0.8046 - loss: 0.4704 - val_Precision: 0.8958 - val_Recall: 0.7668 - val_accuracy: 0.8351 - val_loss: 0.4191 - learning_rate: 1.0000e-04\n",
            "Epoch 43/50\n",
            "\u001b[1m289/289\u001b[0m \u001b[32m━━━━━━━━━━━━━━━━━━━━\u001b[0m\u001b[37m\u001b[0m \u001b[1m169s\u001b[0m 584ms/step - Precision: 0.8522 - Recall: 0.7716 - accuracy: 0.8126 - loss: 0.4508 - val_Precision: 0.8474 - val_Recall: 0.7924 - val_accuracy: 0.8213 - val_loss: 0.4172 - learning_rate: 1.0000e-04\n",
            "Epoch 44/50\n",
            "\u001b[1m289/289\u001b[0m \u001b[32m━━━━━━━━━━━━━━━━━━━━\u001b[0m\u001b[37m\u001b[0m \u001b[1m165s\u001b[0m 572ms/step - Precision: 0.8443 - Recall: 0.7727 - accuracy: 0.8088 - loss: 0.4611 - val_Precision: 0.8614 - val_Recall: 0.7859 - val_accuracy: 0.8226 - val_loss: 0.4100 - learning_rate: 1.0000e-04\n",
            "Epoch 45/50\n",
            "\u001b[1m289/289\u001b[0m \u001b[32m━━━━━━━━━━━━━━━━━━━━\u001b[0m\u001b[37m\u001b[0m \u001b[1m169s\u001b[0m 586ms/step - Precision: 0.8545 - Recall: 0.7737 - accuracy: 0.8170 - loss: 0.4468 - val_Precision: 0.8359 - val_Recall: 0.7876 - val_accuracy: 0.8089 - val_loss: 0.4293 - learning_rate: 1.0000e-04\n",
            "Epoch 46/50\n",
            "\u001b[1m289/289\u001b[0m \u001b[32m━━━━━━━━━━━━━━━━━━━━\u001b[0m\u001b[37m\u001b[0m \u001b[1m171s\u001b[0m 593ms/step - Precision: 0.8444 - Recall: 0.7631 - accuracy: 0.8088 - loss: 0.4625 - val_Precision: 0.8545 - val_Recall: 0.7937 - val_accuracy: 0.8228 - val_loss: 0.4086 - learning_rate: 1.0000e-04\n",
            "Epoch 47/50\n",
            "\u001b[1m289/289\u001b[0m \u001b[32m━━━━━━━━━━━━━━━━━━━━\u001b[0m\u001b[37m\u001b[0m \u001b[1m166s\u001b[0m 574ms/step - Precision: 0.8483 - Recall: 0.7737 - accuracy: 0.8128 - loss: 0.4583 - val_Precision: 0.8454 - val_Recall: 0.7926 - val_accuracy: 0.8174 - val_loss: 0.4238 - learning_rate: 1.0000e-04\n",
            "Epoch 48/50\n",
            "\u001b[1m289/289\u001b[0m \u001b[32m━━━━━━━━━━━━━━━━━━━━\u001b[0m\u001b[37m\u001b[0m \u001b[1m168s\u001b[0m 583ms/step - Precision: 0.8403 - Recall: 0.7677 - accuracy: 0.8083 - loss: 0.4584 - val_Precision: 0.8587 - val_Recall: 0.7987 - val_accuracy: 0.8284 - val_loss: 0.4035 - learning_rate: 1.0000e-04\n",
            "Epoch 49/50\n",
            "\u001b[1m289/289\u001b[0m \u001b[32m━━━━━━━━━━━━━━━━━━━━\u001b[0m\u001b[37m\u001b[0m \u001b[1m167s\u001b[0m 578ms/step - Precision: 0.8542 - Recall: 0.7725 - accuracy: 0.8136 - loss: 0.4600 - val_Precision: 0.8710 - val_Recall: 0.7985 - val_accuracy: 0.8401 - val_loss: 0.3912 - learning_rate: 1.0000e-04\n",
            "Epoch 50/50\n",
            "\u001b[1m289/289\u001b[0m \u001b[32m━━━━━━━━━━━━━━━━━━━━\u001b[0m\u001b[37m\u001b[0m \u001b[1m181s\u001b[0m 625ms/step - Precision: 0.8530 - Recall: 0.7804 - accuracy: 0.8216 - loss: 0.4515 - val_Precision: 0.8584 - val_Recall: 0.8059 - val_accuracy: 0.8323 - val_loss: 0.3989 - learning_rate: 1.0000e-04\n"
          ]
        },
        {
          "metadata": {
            "tags": null
          },
          "name": "stderr",
          "output_type": "stream",
          "text": [
            "WARNING:absl:You are saving your model as an HDF5 file via `model.save()` or `keras.saving.save_model(model)`. This file format is considered legacy. We recommend using instead the native Keras format, e.g. `model.save('my_model.keras')` or `keras.saving.save_model(model, 'my_model.keras')`. \n"
          ]
        },
        {
          "metadata": {
            "tags": null
          },
          "name": "stdout",
          "output_type": "stream",
          "text": [
            "Fold 1 — Accuracy: 0.8401, Precision: 0.8710, Recall: 0.7985\n",
            "\n",
            "🚀 Starting Fold 2\n",
            "Class Weights for Fold 2: {'Mild Dementia': np.float64(4.324108818011257), 'Moderate Dementia': np.float64(44.32211538461539), 'Non Demented': np.float64(0.32144351464435145), 'Very mild Dementia': np.float64(1.5742827868852458)}\n",
            "Found 9219 validated image filenames belonging to 4 classes.\n",
            "Found 4610 validated image filenames belonging to 4 classes.\n"
          ]
        },
        {
          "metadata": {
            "tags": null
          },
          "name": "stderr",
          "output_type": "stream",
          "text": [
            "/usr/local/lib/python3.11/dist-packages/keras/src/trainers/data_adapters/py_dataset_adapter.py:121: UserWarning: Your `PyDataset` class should call `super().__init__(**kwargs)` in its constructor. `**kwargs` can include `workers`, `use_multiprocessing`, `max_queue_size`. Do not pass these arguments to `fit()`, as they will be ignored.\n",
            "  self._warn_if_super_not_called()\n"
          ]
        },
        {
          "output_type": "stream",
          "name": "stdout",
          "text": [
            "Epoch 1/50\n",
            "\u001b[1m289/289\u001b[0m \u001b[32m━━━━━━━━━━━━━━━━━━━━\u001b[0m\u001b[37m\u001b[0m \u001b[1m176s\u001b[0m 587ms/step - Precision: 0.3074 - Recall: 0.2358 - accuracy: 0.2966 - loss: 2.1594 - val_Precision: 0.7994 - val_Recall: 0.7538 - val_accuracy: 0.7777 - val_loss: 0.7902 - learning_rate: 1.0000e-04\n",
            "Epoch 2/50\n",
            "\u001b[1m289/289\u001b[0m \u001b[32m━━━━━━━━━━━━━━━━━━━━\u001b[0m\u001b[37m\u001b[0m \u001b[1m168s\u001b[0m 582ms/step - Precision: 0.4421 - Recall: 0.3284 - accuracy: 0.4044 - loss: 1.7295 - val_Precision: 0.8977 - val_Recall: 0.5575 - val_accuracy: 0.7473 - val_loss: 0.7948 - learning_rate: 1.0000e-04\n",
            "Epoch 3/50\n",
            "\u001b[1m289/289\u001b[0m \u001b[32m━━━━━━━━━━━━━━━━━━━━\u001b[0m\u001b[37m\u001b[0m \u001b[1m166s\u001b[0m 573ms/step - Precision: 0.5136 - Recall: 0.3783 - accuracy: 0.4659 - loss: 1.4531 - val_Precision: 0.8661 - val_Recall: 0.6748 - val_accuracy: 0.7766 - val_loss: 0.6599 - learning_rate: 1.0000e-04\n",
            "Epoch 4/50\n",
            "\u001b[1m289/289\u001b[0m \u001b[32m━━━━━━━━━━━━━━━━━━━━\u001b[0m\u001b[37m\u001b[0m \u001b[1m166s\u001b[0m 573ms/step - Precision: 0.6002 - Recall: 0.4493 - accuracy: 0.5384 - loss: 1.2452 - val_Precision: 0.8342 - val_Recall: 0.7354 - val_accuracy: 0.7879 - val_loss: 0.6196 - learning_rate: 1.0000e-04\n",
            "Epoch 5/50\n",
            "\u001b[1m289/289\u001b[0m \u001b[32m━━━━━━━━━━━━━━━━━━━━\u001b[0m\u001b[37m\u001b[0m \u001b[1m167s\u001b[0m 578ms/step - Precision: 0.6540 - Recall: 0.5014 - accuracy: 0.5884 - loss: 1.1121 - val_Precision: 0.8490 - val_Recall: 0.7306 - val_accuracy: 0.7896 - val_loss: 0.5839 - learning_rate: 1.0000e-04\n",
            "Epoch 6/50\n",
            "\u001b[1m289/289\u001b[0m \u001b[32m━━━━━━━━━━━━━━━━━━━━\u001b[0m\u001b[37m\u001b[0m \u001b[1m168s\u001b[0m 581ms/step - Precision: 0.7080 - Recall: 0.5636 - accuracy: 0.6423 - loss: 0.9839 - val_Precision: 0.8093 - val_Recall: 0.7614 - val_accuracy: 0.7872 - val_loss: 0.5761 - learning_rate: 1.0000e-04\n",
            "Epoch 7/50\n",
            "\u001b[1m289/289\u001b[0m \u001b[32m━━━━━━━━━━━━━━━━━━━━\u001b[0m\u001b[37m\u001b[0m \u001b[1m166s\u001b[0m 574ms/step - Precision: 0.7365 - Recall: 0.5998 - accuracy: 0.6744 - loss: 0.8933 - val_Precision: 0.8186 - val_Recall: 0.7655 - val_accuracy: 0.7907 - val_loss: 0.5539 - learning_rate: 1.0000e-04\n",
            "Epoch 8/50\n",
            "\u001b[1m289/289\u001b[0m \u001b[32m━━━━━━━━━━━━━━━━━━━━\u001b[0m\u001b[37m\u001b[0m \u001b[1m167s\u001b[0m 577ms/step - Precision: 0.7631 - Recall: 0.6394 - accuracy: 0.6996 - loss: 0.8410 - val_Precision: 0.8168 - val_Recall: 0.7668 - val_accuracy: 0.7913 - val_loss: 0.5533 - learning_rate: 1.0000e-04\n",
            "Epoch 9/50\n",
            "\u001b[1m289/289\u001b[0m \u001b[32m━━━━━━━━━━━━━━━━━━━━\u001b[0m\u001b[37m\u001b[0m \u001b[1m168s\u001b[0m 580ms/step - Precision: 0.7637 - Recall: 0.6464 - accuracy: 0.7061 - loss: 0.7961 - val_Precision: 0.8109 - val_Recall: 0.7731 - val_accuracy: 0.7907 - val_loss: 0.5393 - learning_rate: 1.0000e-04\n",
            "Epoch 10/50\n",
            "\u001b[1m289/289\u001b[0m \u001b[32m━━━━━━━━━━━━━━━━━━━━\u001b[0m\u001b[37m\u001b[0m \u001b[1m201s\u001b[0m 579ms/step - Precision: 0.7837 - Recall: 0.6781 - accuracy: 0.7364 - loss: 0.7450 - val_Precision: 0.8196 - val_Recall: 0.7659 - val_accuracy: 0.7946 - val_loss: 0.5158 - learning_rate: 1.0000e-04\n",
            "Epoch 11/50\n",
            "\u001b[1m289/289\u001b[0m \u001b[32m━━━━━━━━━━━━━━━━━━━━\u001b[0m\u001b[37m\u001b[0m \u001b[1m166s\u001b[0m 575ms/step - Precision: 0.7822 - Recall: 0.6844 - accuracy: 0.7365 - loss: 0.7552 - val_Precision: 0.8096 - val_Recall: 0.7731 - val_accuracy: 0.7902 - val_loss: 0.5389 - learning_rate: 1.0000e-04\n",
            "Epoch 12/50\n",
            "\u001b[1m289/289\u001b[0m \u001b[32m━━━━━━━━━━━━━━━━━━━━\u001b[0m\u001b[37m\u001b[0m \u001b[1m169s\u001b[0m 583ms/step - Precision: 0.7887 - Recall: 0.6929 - accuracy: 0.7434 - loss: 0.7157 - val_Precision: 0.8171 - val_Recall: 0.7742 - val_accuracy: 0.7911 - val_loss: 0.5071 - learning_rate: 1.0000e-04\n",
            "Epoch 13/50\n",
            "\u001b[1m289/289\u001b[0m \u001b[32m━━━━━━━━━━━━━━━━━━━━\u001b[0m\u001b[37m\u001b[0m \u001b[1m198s\u001b[0m 572ms/step - Precision: 0.7974 - Recall: 0.7094 - accuracy: 0.7578 - loss: 0.6915 - val_Precision: 0.8028 - val_Recall: 0.7781 - val_accuracy: 0.7874 - val_loss: 0.5482 - learning_rate: 1.0000e-04\n",
            "Epoch 14/50\n",
            "\u001b[1m289/289\u001b[0m \u001b[32m━━━━━━━━━━━━━━━━━━━━\u001b[0m\u001b[37m\u001b[0m \u001b[1m170s\u001b[0m 587ms/step - Precision: 0.7912 - Recall: 0.7042 - accuracy: 0.7533 - loss: 0.6779 - val_Precision: 0.8149 - val_Recall: 0.7764 - val_accuracy: 0.7922 - val_loss: 0.5045 - learning_rate: 1.0000e-04\n",
            "Epoch 15/50\n",
            "\u001b[1m289/289\u001b[0m \u001b[32m━━━━━━━━━━━━━━━━━━━━\u001b[0m\u001b[37m\u001b[0m \u001b[1m167s\u001b[0m 578ms/step - Precision: 0.8006 - Recall: 0.7159 - accuracy: 0.7641 - loss: 0.6456 - val_Precision: 0.8215 - val_Recall: 0.7759 - val_accuracy: 0.7972 - val_loss: 0.5003 - learning_rate: 1.0000e-04\n",
            "Epoch 16/50\n",
            "\u001b[1m289/289\u001b[0m \u001b[32m━━━━━━━━━━━━━━━━━━━━\u001b[0m\u001b[37m\u001b[0m \u001b[1m166s\u001b[0m 574ms/step - Precision: 0.7980 - Recall: 0.7114 - accuracy: 0.7566 - loss: 0.6236 - val_Precision: 0.7976 - val_Recall: 0.7790 - val_accuracy: 0.7876 - val_loss: 0.5311 - learning_rate: 1.0000e-04\n",
            "Epoch 17/50\n",
            "\u001b[1m289/289\u001b[0m \u001b[32m━━━━━━━━━━━━━━━━━━━━\u001b[0m\u001b[37m\u001b[0m \u001b[1m181s\u001b[0m 628ms/step - Precision: 0.8101 - Recall: 0.7355 - accuracy: 0.7727 - loss: 0.6105 - val_Precision: 0.8088 - val_Recall: 0.7798 - val_accuracy: 0.7944 - val_loss: 0.5062 - learning_rate: 1.0000e-04\n",
            "Epoch 18/50\n",
            "\u001b[1m289/289\u001b[0m \u001b[32m━━━━━━━━━━━━━━━━━━━━\u001b[0m\u001b[37m\u001b[0m \u001b[1m167s\u001b[0m 577ms/step - Precision: 0.8084 - Recall: 0.7285 - accuracy: 0.7713 - loss: 0.6002 - val_Precision: 0.8114 - val_Recall: 0.7800 - val_accuracy: 0.7937 - val_loss: 0.5016 - learning_rate: 1.0000e-04\n",
            "Epoch 19/50\n",
            "\u001b[1m289/289\u001b[0m \u001b[32m━━━━━━━━━━━━━━━━━━━━\u001b[0m\u001b[37m\u001b[0m \u001b[1m166s\u001b[0m 573ms/step - Precision: 0.8050 - Recall: 0.7300 - accuracy: 0.7686 - loss: 0.6020 - val_Precision: 0.8290 - val_Recall: 0.7803 - val_accuracy: 0.8041 - val_loss: 0.4656 - learning_rate: 1.0000e-04\n",
            "Epoch 20/50\n",
            "\u001b[1m289/289\u001b[0m \u001b[32m━━━━━━━━━━━━━━━━━━━━\u001b[0m\u001b[37m\u001b[0m \u001b[1m165s\u001b[0m 572ms/step - Precision: 0.8098 - Recall: 0.7333 - accuracy: 0.7728 - loss: 0.5919 - val_Precision: 0.8159 - val_Recall: 0.7813 - val_accuracy: 0.7978 - val_loss: 0.4854 - learning_rate: 1.0000e-04\n",
            "Epoch 21/50\n",
            "\u001b[1m289/289\u001b[0m \u001b[32m━━━━━━━━━━━━━━━━━━━━\u001b[0m\u001b[37m\u001b[0m \u001b[1m167s\u001b[0m 578ms/step - Precision: 0.8154 - Recall: 0.7400 - accuracy: 0.7803 - loss: 0.5725 - val_Precision: 0.8320 - val_Recall: 0.7809 - val_accuracy: 0.8076 - val_loss: 0.4539 - learning_rate: 1.0000e-04\n",
            "Epoch 22/50\n",
            "\u001b[1m289/289\u001b[0m \u001b[32m━━━━━━━━━━━━━━━━━━━━\u001b[0m\u001b[37m\u001b[0m \u001b[1m168s\u001b[0m 582ms/step - Precision: 0.8219 - Recall: 0.7484 - accuracy: 0.7858 - loss: 0.5567 - val_Precision: 0.7997 - val_Recall: 0.7794 - val_accuracy: 0.7876 - val_loss: 0.5134 - learning_rate: 1.0000e-04\n",
            "Epoch 23/50\n",
            "\u001b[1m289/289\u001b[0m \u001b[32m━━━━━━━━━━━━━━━━━━━━\u001b[0m\u001b[37m\u001b[0m \u001b[1m169s\u001b[0m 585ms/step - Precision: 0.8261 - Recall: 0.7419 - accuracy: 0.7862 - loss: 0.5517 - val_Precision: 0.8143 - val_Recall: 0.7792 - val_accuracy: 0.7974 - val_loss: 0.4748 - learning_rate: 1.0000e-04\n",
            "Epoch 24/50\n",
            "\u001b[1m289/289\u001b[0m \u001b[32m━━━━━━━━━━━━━━━━━━━━\u001b[0m\u001b[37m\u001b[0m \u001b[1m169s\u001b[0m 584ms/step - Precision: 0.8168 - Recall: 0.7388 - accuracy: 0.7795 - loss: 0.5598 - val_Precision: 0.8313 - val_Recall: 0.7792 - val_accuracy: 0.8065 - val_loss: 0.4464 - learning_rate: 1.0000e-04\n",
            "Epoch 25/50\n",
            "\u001b[1m289/289\u001b[0m \u001b[32m━━━━━━━━━━━━━━━━━━━━\u001b[0m\u001b[37m\u001b[0m \u001b[1m167s\u001b[0m 579ms/step - Precision: 0.8185 - Recall: 0.7407 - accuracy: 0.7812 - loss: 0.5493 - val_Precision: 0.8215 - val_Recall: 0.7809 - val_accuracy: 0.7996 - val_loss: 0.4617 - learning_rate: 1.0000e-04\n",
            "Epoch 26/50\n",
            "\u001b[1m289/289\u001b[0m \u001b[32m━━━━━━━━━━━━━━━━━━━━\u001b[0m\u001b[37m\u001b[0m \u001b[1m172s\u001b[0m 596ms/step - Precision: 0.8243 - Recall: 0.7442 - accuracy: 0.7868 - loss: 0.5365 - val_Precision: 0.8118 - val_Recall: 0.7824 - val_accuracy: 0.7970 - val_loss: 0.4777 - learning_rate: 1.0000e-04\n",
            "Epoch 27/50\n",
            "\u001b[1m289/289\u001b[0m \u001b[32m━━━━━━━━━━━━━━━━━━━━\u001b[0m\u001b[37m\u001b[0m \u001b[1m198s\u001b[0m 580ms/step - Precision: 0.8215 - Recall: 0.7464 - accuracy: 0.7836 - loss: 0.5381 - val_Precision: 0.8213 - val_Recall: 0.7844 - val_accuracy: 0.8030 - val_loss: 0.4531 - learning_rate: 1.0000e-04\n",
            "Epoch 28/50\n",
            "\u001b[1m289/289\u001b[0m \u001b[32m━━━━━━━━━━━━━━━━━━━━\u001b[0m\u001b[37m\u001b[0m \u001b[1m168s\u001b[0m 583ms/step - Precision: 0.8233 - Recall: 0.7442 - accuracy: 0.7885 - loss: 0.5327 - val_Precision: 0.8277 - val_Recall: 0.7837 - val_accuracy: 0.8063 - val_loss: 0.4493 - learning_rate: 1.0000e-04\n",
            "Epoch 29/50\n",
            "\u001b[1m289/289\u001b[0m \u001b[32m━━━━━━━━━━━━━━━━━━━━\u001b[0m\u001b[37m\u001b[0m \u001b[1m167s\u001b[0m 580ms/step - Precision: 0.8227 - Recall: 0.7405 - accuracy: 0.7830 - loss: 0.5381 - val_Precision: 0.8310 - val_Recall: 0.7870 - val_accuracy: 0.8080 - val_loss: 0.4380 - learning_rate: 1.0000e-04\n",
            "Epoch 30/50\n",
            "\u001b[1m289/289\u001b[0m \u001b[32m━━━━━━━━━━━━━━━━━━━━\u001b[0m\u001b[37m\u001b[0m \u001b[1m184s\u001b[0m 637ms/step - Precision: 0.8339 - Recall: 0.7548 - accuracy: 0.7962 - loss: 0.5040 - val_Precision: 0.8400 - val_Recall: 0.7826 - val_accuracy: 0.8111 - val_loss: 0.4295 - learning_rate: 1.0000e-04\n",
            "Epoch 31/50\n",
            "\u001b[1m289/289\u001b[0m \u001b[32m━━━━━━━━━━━━━━━━━━━━\u001b[0m\u001b[37m\u001b[0m \u001b[1m166s\u001b[0m 575ms/step - Precision: 0.8337 - Recall: 0.7570 - accuracy: 0.7979 - loss: 0.5107 - val_Precision: 0.8506 - val_Recall: 0.7868 - val_accuracy: 0.8210 - val_loss: 0.4230 - learning_rate: 1.0000e-04\n",
            "Epoch 32/50\n",
            "\u001b[1m289/289\u001b[0m \u001b[32m━━━━━━━━━━━━━━━━━━━━\u001b[0m\u001b[37m\u001b[0m \u001b[1m203s\u001b[0m 578ms/step - Precision: 0.8343 - Recall: 0.7556 - accuracy: 0.7999 - loss: 0.5103 - val_Precision: 0.8321 - val_Recall: 0.7859 - val_accuracy: 0.8091 - val_loss: 0.4355 - learning_rate: 1.0000e-04\n",
            "Epoch 33/50\n",
            "\u001b[1m289/289\u001b[0m \u001b[32m━━━━━━━━━━━━━━━━━━━━\u001b[0m\u001b[37m\u001b[0m \u001b[1m168s\u001b[0m 583ms/step - Precision: 0.8381 - Recall: 0.7593 - accuracy: 0.7975 - loss: 0.4978 - val_Precision: 0.8514 - val_Recall: 0.7794 - val_accuracy: 0.8195 - val_loss: 0.4249 - learning_rate: 1.0000e-04\n",
            "Epoch 34/50\n",
            "\u001b[1m289/289\u001b[0m \u001b[32m━━━━━━━━━━━━━━━━━━━━\u001b[0m\u001b[37m\u001b[0m \u001b[1m169s\u001b[0m 584ms/step - Precision: 0.8396 - Recall: 0.7659 - accuracy: 0.8024 - loss: 0.4928 - val_Precision: 0.8413 - val_Recall: 0.7879 - val_accuracy: 0.8130 - val_loss: 0.4249 - learning_rate: 1.0000e-04\n",
            "Epoch 35/50\n",
            "\u001b[1m289/289\u001b[0m \u001b[32m━━━━━━━━━━━━━━━━━━━━\u001b[0m\u001b[37m\u001b[0m \u001b[1m165s\u001b[0m 573ms/step - Precision: 0.8364 - Recall: 0.7623 - accuracy: 0.8024 - loss: 0.4956 - val_Precision: 0.8443 - val_Recall: 0.7868 - val_accuracy: 0.8156 - val_loss: 0.4168 - learning_rate: 1.0000e-04\n",
            "Epoch 36/50\n",
            "\u001b[1m289/289\u001b[0m \u001b[32m━━━━━━━━━━━━━━━━━━━━\u001b[0m\u001b[37m\u001b[0m \u001b[1m168s\u001b[0m 581ms/step - Precision: 0.8393 - Recall: 0.7656 - accuracy: 0.8067 - loss: 0.4842 - val_Precision: 0.8234 - val_Recall: 0.7859 - val_accuracy: 0.8024 - val_loss: 0.4465 - learning_rate: 1.0000e-04\n",
            "Epoch 37/50\n",
            "\u001b[1m289/289\u001b[0m \u001b[32m━━━━━━━━━━━━━━━━━━━━\u001b[0m\u001b[37m\u001b[0m \u001b[1m168s\u001b[0m 580ms/step - Precision: 0.8353 - Recall: 0.7584 - accuracy: 0.7966 - loss: 0.4907 - val_Precision: 0.8511 - val_Recall: 0.7874 - val_accuracy: 0.8204 - val_loss: 0.4133 - learning_rate: 1.0000e-04\n",
            "Epoch 38/50\n",
            "\u001b[1m289/289\u001b[0m \u001b[32m━━━━━━━━━━━━━━━━━━━━\u001b[0m\u001b[37m\u001b[0m \u001b[1m169s\u001b[0m 584ms/step - Precision: 0.8471 - Recall: 0.7685 - accuracy: 0.8082 - loss: 0.4746 - val_Precision: 0.8254 - val_Recall: 0.7894 - val_accuracy: 0.8069 - val_loss: 0.4365 - learning_rate: 1.0000e-04\n",
            "Epoch 39/50\n",
            "\u001b[1m289/289\u001b[0m \u001b[32m━━━━━━━━━━━━━━━━━━━━\u001b[0m\u001b[37m\u001b[0m \u001b[1m165s\u001b[0m 572ms/step - Precision: 0.8448 - Recall: 0.7721 - accuracy: 0.8093 - loss: 0.4754 - val_Precision: 0.8660 - val_Recall: 0.7852 - val_accuracy: 0.8302 - val_loss: 0.4012 - learning_rate: 1.0000e-04\n",
            "Epoch 40/50\n",
            "\u001b[1m289/289\u001b[0m \u001b[32m━━━━━━━━━━━━━━━━━━━━\u001b[0m\u001b[37m\u001b[0m \u001b[1m168s\u001b[0m 582ms/step - Precision: 0.8403 - Recall: 0.7609 - accuracy: 0.8016 - loss: 0.4767 - val_Precision: 0.8159 - val_Recall: 0.7892 - val_accuracy: 0.8030 - val_loss: 0.4637 - learning_rate: 1.0000e-04\n",
            "Epoch 41/50\n",
            "\u001b[1m289/289\u001b[0m \u001b[32m━━━━━━━━━━━━━━━━━━━━\u001b[0m\u001b[37m\u001b[0m \u001b[1m167s\u001b[0m 577ms/step - Precision: 0.8516 - Recall: 0.7721 - accuracy: 0.8092 - loss: 0.4722 - val_Precision: 0.8054 - val_Recall: 0.7846 - val_accuracy: 0.7931 - val_loss: 0.5023 - learning_rate: 1.0000e-04\n",
            "Epoch 42/50\n",
            "\u001b[1m289/289\u001b[0m \u001b[32m━━━━━━━━━━━━━━━━━━━━\u001b[0m\u001b[37m\u001b[0m \u001b[1m169s\u001b[0m 583ms/step - Precision: 0.8376 - Recall: 0.7691 - accuracy: 0.8053 - loss: 0.4788 - val_Precision: 0.8598 - val_Recall: 0.7957 - val_accuracy: 0.8271 - val_loss: 0.4000 - learning_rate: 1.0000e-04\n",
            "Epoch 43/50\n",
            "\u001b[1m289/289\u001b[0m \u001b[32m━━━━━━━━━━━━━━━━━━━━\u001b[0m\u001b[37m\u001b[0m \u001b[1m165s\u001b[0m 572ms/step - Precision: 0.8415 - Recall: 0.7626 - accuracy: 0.8079 - loss: 0.4717 - val_Precision: 0.8168 - val_Recall: 0.7889 - val_accuracy: 0.8017 - val_loss: 0.4557 - learning_rate: 1.0000e-04\n",
            "Epoch 44/50\n",
            "\u001b[1m289/289\u001b[0m \u001b[32m━━━━━━━━━━━━━━━━━━━━\u001b[0m\u001b[37m\u001b[0m \u001b[1m167s\u001b[0m 577ms/step - Precision: 0.8393 - Recall: 0.7665 - accuracy: 0.8060 - loss: 0.4726 - val_Precision: 0.8277 - val_Recall: 0.7941 - val_accuracy: 0.8100 - val_loss: 0.4332 - learning_rate: 1.0000e-04\n",
            "Epoch 45/50\n",
            "\u001b[1m289/289\u001b[0m \u001b[32m━━━━━━━━━━━━━━━━━━━━\u001b[0m\u001b[37m\u001b[0m \u001b[1m201s\u001b[0m 576ms/step - Precision: 0.8458 - Recall: 0.7756 - accuracy: 0.8088 - loss: 0.4604 - val_Precision: 0.8374 - val_Recall: 0.7967 - val_accuracy: 0.8163 - val_loss: 0.4245 - learning_rate: 1.0000e-04\n",
            "Epoch 46/50\n",
            "\u001b[1m289/289\u001b[0m \u001b[32m━━━━━━━━━━━━━━━━━━━━\u001b[0m\u001b[37m\u001b[0m \u001b[1m182s\u001b[0m 630ms/step - Precision: 0.8423 - Recall: 0.7701 - accuracy: 0.8081 - loss: 0.4665 - val_Precision: 0.8457 - val_Recall: 0.7896 - val_accuracy: 0.8191 - val_loss: 0.4109 - learning_rate: 1.0000e-04\n",
            "Epoch 47/50\n",
            "\u001b[1m289/289\u001b[0m \u001b[32m━━━━━━━━━━━━━━━━━━━━\u001b[0m\u001b[37m\u001b[0m \u001b[1m166s\u001b[0m 575ms/step - Precision: 0.8486 - Recall: 0.7758 - accuracy: 0.8150 - loss: 0.4623 - val_Precision: 0.8400 - val_Recall: 0.8015 - val_accuracy: 0.8191 - val_loss: 0.4116 - learning_rate: 1.0000e-04\n",
            "Epoch 48/50\n",
            "\u001b[1m289/289\u001b[0m \u001b[32m━━━━━━━━━━━━━━━━━━━━\u001b[0m\u001b[37m\u001b[0m \u001b[1m167s\u001b[0m 579ms/step - Precision: 0.8472 - Recall: 0.7705 - accuracy: 0.8098 - loss: 0.4568 - val_Precision: 0.8481 - val_Recall: 0.7954 - val_accuracy: 0.8226 - val_loss: 0.4010 - learning_rate: 2.0000e-05\n",
            "Epoch 49/50\n",
            "\u001b[1m289/289\u001b[0m \u001b[32m━━━━━━━━━━━━━━━━━━━━\u001b[0m\u001b[37m\u001b[0m \u001b[1m168s\u001b[0m 580ms/step - Precision: 0.8522 - Recall: 0.7740 - accuracy: 0.8156 - loss: 0.4521 - val_Precision: 0.8498 - val_Recall: 0.7952 - val_accuracy: 0.8232 - val_loss: 0.4004 - learning_rate: 2.0000e-05\n",
            "Epoch 50/50\n",
            "\u001b[1m289/289\u001b[0m \u001b[32m━━━━━━━━━━━━━━━━━━━━\u001b[0m\u001b[37m\u001b[0m \u001b[1m166s\u001b[0m 575ms/step - Precision: 0.8344 - Recall: 0.7610 - accuracy: 0.7979 - loss: 0.4835 - val_Precision: 0.8467 - val_Recall: 0.7970 - val_accuracy: 0.8230 - val_loss: 0.3998 - learning_rate: 2.0000e-05\n"
          ]
        },
        {
          "output_type": "stream",
          "name": "stderr",
          "text": [
            "WARNING:absl:You are saving your model as an HDF5 file via `model.save()` or `keras.saving.save_model(model)`. This file format is considered legacy. We recommend using instead the native Keras format, e.g. `model.save('my_model.keras')` or `keras.saving.save_model(model, 'my_model.keras')`. \n"
          ]
        },
        {
          "output_type": "stream",
          "name": "stdout",
          "text": [
            "Fold 2 — Accuracy: 0.8230, Precision: 0.8467, Recall: 0.7970\n",
            "\n",
            "🚀 Starting Fold 3\n",
            "Class Weights for Fold 3: {'Mild Dementia': np.float64(4.3164794007490634), 'Moderate Dementia': np.float64(44.32692307692308), 'Non Demented': np.float64(0.3214783821478382), 'Very mild Dementia': np.float64(1.5744535519125684)}\n",
            "Found 9220 validated image filenames belonging to 4 classes.\n",
            "Found 4609 validated image filenames belonging to 4 classes.\n"
          ]
        },
        {
          "output_type": "stream",
          "name": "stderr",
          "text": [
            "/usr/local/lib/python3.11/dist-packages/keras/src/trainers/data_adapters/py_dataset_adapter.py:121: UserWarning: Your `PyDataset` class should call `super().__init__(**kwargs)` in its constructor. `**kwargs` can include `workers`, `use_multiprocessing`, `max_queue_size`. Do not pass these arguments to `fit()`, as they will be ignored.\n",
            "  self._warn_if_super_not_called()\n"
          ]
        },
        {
          "output_type": "stream",
          "name": "stdout",
          "text": [
            "Epoch 1/50\n",
            "\u001b[1m289/289\u001b[0m \u001b[32m━━━━━━━━━━━━━━━━━━━━\u001b[0m\u001b[37m\u001b[0m \u001b[1m181s\u001b[0m 603ms/step - Precision: 0.3225 - Recall: 0.2490 - accuracy: 0.3101 - loss: 2.1628 - val_Precision: 0.8566 - val_Recall: 0.6309 - val_accuracy: 0.7778 - val_loss: 0.8453 - learning_rate: 1.0000e-04\n",
            "Epoch 2/50\n",
            "\u001b[1m289/289\u001b[0m \u001b[32m━━━━━━━━━━━━━━━━━━━━\u001b[0m\u001b[37m\u001b[0m \u001b[1m167s\u001b[0m 579ms/step - Precision: 0.4394 - Recall: 0.3340 - accuracy: 0.4080 - loss: 1.7495 - val_Precision: 0.8747 - val_Recall: 0.4997 - val_accuracy: 0.7325 - val_loss: 0.8675 - learning_rate: 1.0000e-04\n",
            "Epoch 3/50\n",
            "\u001b[1m289/289\u001b[0m \u001b[32m━━━━━━━━━━━━━━━━━━━━\u001b[0m\u001b[37m\u001b[0m \u001b[1m168s\u001b[0m 582ms/step - Precision: 0.5288 - Recall: 0.3976 - accuracy: 0.4805 - loss: 1.4667 - val_Precision: 0.8656 - val_Recall: 0.6570 - val_accuracy: 0.7650 - val_loss: 0.7008 - learning_rate: 1.0000e-04\n",
            "Epoch 4/50\n",
            "\u001b[1m289/289\u001b[0m \u001b[32m━━━━━━━━━━━━━━━━━━━━\u001b[0m\u001b[37m\u001b[0m \u001b[1m183s\u001b[0m 632ms/step - Precision: 0.6048 - Recall: 0.4553 - accuracy: 0.5388 - loss: 1.2567 - val_Precision: 0.8567 - val_Recall: 0.6759 - val_accuracy: 0.7770 - val_loss: 0.6531 - learning_rate: 1.0000e-04\n",
            "Epoch 5/50\n",
            "\u001b[1m289/289\u001b[0m \u001b[32m━━━━━━━━━━━━━━━━━━━━\u001b[0m\u001b[37m\u001b[0m \u001b[1m186s\u001b[0m 576ms/step - Precision: 0.6596 - Recall: 0.5110 - accuracy: 0.5974 - loss: 1.1212 - val_Precision: 0.8229 - val_Recall: 0.7448 - val_accuracy: 0.7817 - val_loss: 0.5949 - learning_rate: 1.0000e-04\n",
            "Epoch 6/50\n",
            "\u001b[1m289/289\u001b[0m \u001b[32m━━━━━━━━━━━━━━━━━━━━\u001b[0m\u001b[37m\u001b[0m \u001b[1m168s\u001b[0m 581ms/step - Precision: 0.7064 - Recall: 0.5694 - accuracy: 0.6449 - loss: 1.0057 - val_Precision: 0.8403 - val_Recall: 0.7422 - val_accuracy: 0.7893 - val_loss: 0.5676 - learning_rate: 1.0000e-04\n",
            "Epoch 7/50\n",
            "\u001b[1m289/289\u001b[0m \u001b[32m━━━━━━━━━━━━━━━━━━━━\u001b[0m\u001b[37m\u001b[0m \u001b[1m168s\u001b[0m 580ms/step - Precision: 0.7450 - Recall: 0.6103 - accuracy: 0.6786 - loss: 0.8863 - val_Precision: 0.8340 - val_Recall: 0.7531 - val_accuracy: 0.7887 - val_loss: 0.5506 - learning_rate: 1.0000e-04\n",
            "Epoch 8/50\n",
            "\u001b[1m289/289\u001b[0m \u001b[32m━━━━━━━━━━━━━━━━━━━━\u001b[0m\u001b[37m\u001b[0m \u001b[1m167s\u001b[0m 578ms/step - Precision: 0.7556 - Recall: 0.6362 - accuracy: 0.7014 - loss: 0.8572 - val_Precision: 0.8279 - val_Recall: 0.7611 - val_accuracy: 0.7913 - val_loss: 0.5453 - learning_rate: 1.0000e-04\n",
            "Epoch 9/50\n",
            "\u001b[1m289/289\u001b[0m \u001b[32m━━━━━━━━━━━━━━━━━━━━\u001b[0m\u001b[37m\u001b[0m \u001b[1m167s\u001b[0m 578ms/step - Precision: 0.7707 - Recall: 0.6578 - accuracy: 0.7151 - loss: 0.8100 - val_Precision: 0.8235 - val_Recall: 0.7624 - val_accuracy: 0.7908 - val_loss: 0.5409 - learning_rate: 1.0000e-04\n",
            "Epoch 10/50\n",
            "\u001b[1m289/289\u001b[0m \u001b[32m━━━━━━━━━━━━━━━━━━━━\u001b[0m\u001b[37m\u001b[0m \u001b[1m202s\u001b[0m 580ms/step - Precision: 0.7775 - Recall: 0.6790 - accuracy: 0.7278 - loss: 0.7581 - val_Precision: 0.8234 - val_Recall: 0.7700 - val_accuracy: 0.7924 - val_loss: 0.5260 - learning_rate: 1.0000e-04\n",
            "Epoch 11/50\n",
            "\u001b[1m289/289\u001b[0m \u001b[32m━━━━━━━━━━━━━━━━━━━━\u001b[0m\u001b[37m\u001b[0m \u001b[1m167s\u001b[0m 577ms/step - Precision: 0.7814 - Recall: 0.6912 - accuracy: 0.7391 - loss: 0.7311 - val_Precision: 0.8211 - val_Recall: 0.7757 - val_accuracy: 0.7939 - val_loss: 0.5241 - learning_rate: 1.0000e-04\n",
            "Epoch 12/50\n",
            "\u001b[1m289/289\u001b[0m \u001b[32m━━━━━━━━━━━━━━━━━━━━\u001b[0m\u001b[37m\u001b[0m \u001b[1m182s\u001b[0m 629ms/step - Precision: 0.7955 - Recall: 0.7081 - accuracy: 0.7507 - loss: 0.6940 - val_Precision: 0.8360 - val_Recall: 0.7731 - val_accuracy: 0.7993 - val_loss: 0.5035 - learning_rate: 1.0000e-04\n",
            "Epoch 13/50\n",
            "\u001b[1m289/289\u001b[0m \u001b[32m━━━━━━━━━━━━━━━━━━━━\u001b[0m\u001b[37m\u001b[0m \u001b[1m165s\u001b[0m 570ms/step - Precision: 0.7911 - Recall: 0.7067 - accuracy: 0.7544 - loss: 0.6662 - val_Precision: 0.8247 - val_Recall: 0.7809 - val_accuracy: 0.8010 - val_loss: 0.5037 - learning_rate: 1.0000e-04\n",
            "Epoch 14/50\n",
            "\u001b[1m289/289\u001b[0m \u001b[32m━━━━━━━━━━━━━━━━━━━━\u001b[0m\u001b[37m\u001b[0m \u001b[1m176s\u001b[0m 608ms/step - Precision: 0.7945 - Recall: 0.7141 - accuracy: 0.7582 - loss: 0.6558 - val_Precision: 0.8310 - val_Recall: 0.7778 - val_accuracy: 0.8032 - val_loss: 0.4919 - learning_rate: 1.0000e-04\n",
            "Epoch 15/50\n",
            "\u001b[1m289/289\u001b[0m \u001b[32m━━━━━━━━━━━━━━━━━━━━\u001b[0m\u001b[37m\u001b[0m \u001b[1m177s\u001b[0m 612ms/step - Precision: 0.8003 - Recall: 0.7244 - accuracy: 0.7613 - loss: 0.6368 - val_Precision: 0.8148 - val_Recall: 0.7846 - val_accuracy: 0.7969 - val_loss: 0.5082 - learning_rate: 1.0000e-04\n",
            "Epoch 16/50\n",
            "\u001b[1m289/289\u001b[0m \u001b[32m━━━━━━━━━━━━━━━━━━━━\u001b[0m\u001b[37m\u001b[0m \u001b[1m161s\u001b[0m 558ms/step - Precision: 0.8060 - Recall: 0.7280 - accuracy: 0.7683 - loss: 0.6041 - val_Precision: 0.8072 - val_Recall: 0.7819 - val_accuracy: 0.7937 - val_loss: 0.5221 - learning_rate: 1.0000e-04\n",
            "Epoch 17/50\n",
            "\u001b[1m289/289\u001b[0m \u001b[32m━━━━━━━━━━━━━━━━━━━━\u001b[0m\u001b[37m\u001b[0m \u001b[1m178s\u001b[0m 614ms/step - Precision: 0.8048 - Recall: 0.7337 - accuracy: 0.7736 - loss: 0.6028 - val_Precision: 0.8200 - val_Recall: 0.7811 - val_accuracy: 0.7989 - val_loss: 0.4887 - learning_rate: 1.0000e-04\n",
            "Epoch 18/50\n",
            "\u001b[1m 56/289\u001b[0m \u001b[32m━━━\u001b[0m\u001b[37m━━━━━━━━━━━━━━━━━\u001b[0m \u001b[1m1:45\u001b[0m 452ms/step - Precision: 0.7936 - Recall: 0.7341 - accuracy: 0.7601 - loss: 0.6106"
          ]
        }
      ]
    },
    {
      "cell_type": "markdown",
      "source": [],
      "metadata": {
        "id": "IPbNYNgdoylI"
      }
    }
  ]
}